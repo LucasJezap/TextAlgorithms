{
 "cells": [
  {
   "cell_type": "markdown",
   "metadata": {},
   "source": [
    "# Algorytmy Tekstowe 2019/2020"
   ]
  },
  {
   "cell_type": "markdown",
   "metadata": {},
   "source": [
    "# Laboratorium 7"
   ]
  },
  {
   "cell_type": "markdown",
   "metadata": {},
   "source": [
    "# Autor - Łukasz Jezapkowicz"
   ]
  },
  {
   "cell_type": "markdown",
   "metadata": {},
   "source": [
    "# 1. Zaimplementuj algorytm wyszukiwania wyrażeń regularnych. Wyrażenie może zawierać:\n",
    "\n",
    "   # - litery, cyfry i spacje - traktować literalnie \n",
    "   # - kropki - reprezentuje dowolny znak \n",
    "   # - operatory: gwiazdkę - 0 lub więcej powtórzeń poprzedniego symbolu, plus - 1 lub więcej powtórzeń, pytajnik - 0 lub 1 powtórzenie\n",
    "   # - nawiasy - na potrzeby operatorów gwiazdki, plusa i pytajnika zawartość nawiasów jest pojedynczym symbolem; nawiasy mogą być zagnieżdżone; nawiasy po których nie występuje żaden z wymienionych operatorów nie mają skutku\n",
    "   # - klasy znaków (albo dowolna liczba znaków wymieniona w nawiasach kwadratowych, albo oznaczenie klasy, typu \\d)\n",
    "   # - Możesz założyć, że wprowadzone wyrażenie jest poprawne."
   ]
  },
  {
   "cell_type": "markdown",
   "metadata": {},
   "source": [
    "W celu rozwiązania powyższego problemu będę budować automat skończony związany z danym wyrażeniem regularnym. Przy pomocy zbudowanego automatu będę mógł sprawdzać zgodność słowa z danym wyrażeniem regularnym. Wyniki będę porównywał z wbudowanym w Pythona regex'em.  "
   ]
  },
  {
   "cell_type": "markdown",
   "metadata": {},
   "source": [
    "Pierwszym krokiem, który musimy wykonać jest transformacja danego wyrażenia regularnego z postaci infiksowej do postaci postfiksowej. Algorytmem, który pozwala wykonać taką czynność jest algorytm Shunting-Yard (https://en.wikipedia.org/wiki/Shunting-yard_algorithm).  \n",
    "Drugą rzeczą jaką należy wykonać jest dodanie specjalnego znaku konkatenacji (zazwyczaj stosuje się do tego '.', ale tutaj używamy jej w innym celu, użyłem więc znaku '@').  \n",
    "Należy również przekształcić nawiasy kwadratowe oraz klasy znaków na odpowiednie alternatywy ($[abc]\\rightarrow(a|b|c)$).  \n",
    "Funkcje dokonujące zamiany wyrażenia z postaci infiksowej do postaci postfiksowej widoczne są poniżej."
   ]
  },
  {
   "cell_type": "code",
   "execution_count": 240,
   "metadata": {},
   "outputs": [],
   "source": [
    "import string\n",
    "\n",
    "# funkcja dodająca specjalny znak konkatenacji '@', potrzebny przy tworzeniu automatu skończonego\n",
    "def add_concat_sign(infix):\n",
    "    result = \"\"\n",
    "    \n",
    "    # znaki specjalne wyznaczające jak dodawać znak konkatenacji, None - początek wzorca \n",
    "    concat_from = ['(', '|', None]\n",
    "    concat_to = ['*', '+', '?', ')', '|']\n",
    "    previous_char = None\n",
    "    \n",
    "    # dodawanie znaku konkatenacji\n",
    "    for char in infix:\n",
    "        if char not in concat_to and previous_char not in concat_from:\n",
    "            result += '@'\n",
    "        result += char\n",
    "        previous_char = char\n",
    "\n",
    "    return result\n",
    "\n",
    "# funkcja zamieniająca wyrażenia w nawiasach kwadratowych na odpowiednie alternatywy\n",
    "def parse_square(infix):\n",
    "    new_infix = \"\"\n",
    "    \n",
    "    i = 0\n",
    "    while i < len(infix):\n",
    "        c = infix[i]\n",
    "        if c != '[':\n",
    "            new_infix += c\n",
    "        else:\n",
    "            parsed = '('\n",
    "            i += 1\n",
    "            while infix[i] != ']':\n",
    "                parsed += infix[i]\n",
    "                if infix[i+1] != ']':\n",
    "                    parsed += '|'\n",
    "                i += 1\n",
    "            parsed += ')'\n",
    "            new_infix += parsed\n",
    "        i += 1\n",
    "    \n",
    "    return new_infix\n",
    "\n",
    "# funkcja zamieniająca klasy \\d, \\w oraz \\s na odpowiednie alternatywy\n",
    "def parse_backslashes(infix):\n",
    "    new_infix = \"\"\n",
    "    \n",
    "    i = 0\n",
    "    while i < len(infix):\n",
    "        c = infix[i]\n",
    "        if c != '\\\\':\n",
    "            new_infix += c\n",
    "        else:\n",
    "            i += 1\n",
    "            if infix[i] == 'd':\n",
    "                new_infix += '(0|1|2|3|4|5|6|7|8|9)'\n",
    "            elif infix[i] == 'w':\n",
    "                parsed = '('\n",
    "                for c in string.ascii_letters:\n",
    "                    parsed += c + '|'\n",
    "                \n",
    "                parsed = parsed[:-1]\n",
    "                parsed += ')'\n",
    "                new_infix += parsed\n",
    "            elif infix[i] == 's':\n",
    "                parsed = '('\n",
    "                for c in string.whitespace:\n",
    "                    parsed += c + '|'\n",
    "                \n",
    "                parsed = parsed[:-1]\n",
    "                parsed += ')'\n",
    "                new_infix += parsed\n",
    "            \n",
    "        i += 1\n",
    "    \n",
    "    return new_infix\n",
    "\n",
    "# funkcja zamieniająca infiksowy regex na postfixowy regex, wykorzystuje algorytm Shunting-Yard\n",
    "def to_postfix(infix, print_regexes = False):\n",
    "    # Curly braces = dictionary\n",
    "    # * = zero albo więcej\n",
    "    # + = raz albo więcej\n",
    "    # ? = zero albo raz\n",
    "    # @ = konkatenacja\n",
    "    # | = alternatywa\n",
    "    \n",
    "    # określenie znaków specjalnych i ich kolejności (ważności)\n",
    "    specials = {'?': 70, '+': 60, '*': 50, '@': 40, '|': 30}\n",
    "\n",
    "    postfix = \"\"\n",
    "    stack = \"\"\n",
    "    \n",
    "    # dodajemy znaki konkatenacji, zmieniamy kwadratowe nawiasy i klasy typu \\d\n",
    "    if print_regexes:\n",
    "        print('Basic infix regex form: ' + infix)\n",
    "    infix = parse_square(infix)\n",
    "    infix = parse_backslashes(infix)\n",
    "    infix = add_concat_sign(infix)\n",
    "    if print_regexes:\n",
    "        print('Parsed infix regex form: ' + infix)\n",
    " \n",
    "    for c in infix:\n",
    "        if c == '(':\n",
    "            stack = stack + c\n",
    "        elif c == ')':\n",
    "            while stack[-1] != '(':\n",
    "                postfix, stack = postfix + stack[-1], stack[:-1]\n",
    "            # Usuwamy '(' ze stosu\n",
    "            stack = stack[:-1]\n",
    "        elif c in specials:\n",
    "            while stack and specials.get(c, 0) <= specials.get(stack[-1], 0):\n",
    "                postfix, stack = postfix + stack[-1], stack[:-1]\n",
    "            stack = stack + c\n",
    "        else:\n",
    "            postfix = postfix + c\n",
    "\n",
    "    while stack:\n",
    "        postfix, stack = postfix + stack[-1], stack[:-1]\n",
    "    \n",
    "    if print_regexes:\n",
    "        print('Parsed postfix regex form: ' + postfix)\n",
    "        \n",
    "    return postfix"
   ]
  },
  {
   "cell_type": "markdown",
   "metadata": {},
   "source": [
    "Poniżej przedstawiam przykładowe działanie tych funkcji."
   ]
  },
  {
   "cell_type": "code",
   "execution_count": 241,
   "metadata": {},
   "outputs": [
    {
     "name": "stdout",
     "output_type": "stream",
     "text": [
      "Postfix of abcdef is ab@c@d@e@f@\n",
      "Postfix of (ab|cd)* is ab@cd@|*\n",
      "Postfix of (a|b)*a+b? is ab|*a+@b?@\n",
      "Postfix of [abcd]*a+b\\d? is ab|c|d|*a+@b@01|2|3|4|5|6|7|8|9|@\n"
     ]
    }
   ],
   "source": [
    "print(\"Postfix of abcdef is \" + to_postfix(\"abcdef\"))\n",
    "print(\"Postfix of (ab|cd)* is \" + to_postfix(\"(ab|cd)*\"))\n",
    "print(\"Postfix of (a|b)*a+b? is \" + to_postfix(\"(a|b)*a+b?\"))\n",
    "print(\"Postfix of [abcd]*a+b\\d? is \" + to_postfix(\"[abcd]*a+b\\d\"))"
   ]
  },
  {
   "cell_type": "code",
   "execution_count": 244,
   "metadata": {},
   "outputs": [
    {
     "name": "stdout",
     "output_type": "stream",
     "text": [
      "Basic infix regex form: \\d*.\\d+\n",
      "Parsed infix regex form: (0|1|2|3|4|5|6|7|8|9)*@.@(0|1|2|3|4|5|6|7|8|9)+\n",
      "Parsed postfix regex form: 01|2|3|4|5|6|7|8|9|*.@01|2|3|4|5|6|7|8|9|+@\n"
     ]
    }
   ],
   "source": [
    "tmp = to_postfix('\\d*.\\d+', True)"
   ]
  },
  {
   "cell_type": "markdown",
   "metadata": {},
   "source": [
    "Następnym krokiem jest stworzenie automatu skończonego. W tym celu stosuje algorytm Thompsona budowania automatu skończonego dla danego wyrażenia regularnego (https://en.wikipedia.org/wiki/Thompson%27s_construction). "
   ]
  },
  {
   "cell_type": "code",
   "execution_count": 245,
   "metadata": {},
   "outputs": [],
   "source": [
    "# Klasa reprezentująca stan automatu z nazwą 'label' oraz dwoma krawędziami\n",
    "# None oznacza tutaj stan z krawędzia 'epsilon'\n",
    "class state: \n",
    "    label = None\n",
    "    edge1 = None\n",
    "    edge2 = None\n",
    "\n",
    "# Klasa symbolizująca NFA (niedeterministyczny automat skończony)\n",
    "class nfa:\n",
    "    def __init__(self, initial, accept):\n",
    "        self.initial = initial\n",
    "        self.accept = accept\n",
    "\n",
    "# funkcja zamieniająca wyrażenie regularne na NFA\n",
    "# tworzymy nowe automaty i je łączymy, tak jak opisuje algorytm Thompsona\n",
    "def compile(postfix):\n",
    "    # pomocniczy stos, na koniec procedury powinien zawierać tylko 1 element (nasz automat)\n",
    "    nfaStack = []\n",
    "\n",
    "    for c in postfix:\n",
    "        if c == '?':\n",
    "            # Zdejmujemy automat ze stosu\n",
    "            nfa1 = nfaStack.pop()\n",
    "\n",
    "            # Tworzymy stan początkowy i końcowy dla nowego automatu\n",
    "            initial = state()\n",
    "            accept = state()\n",
    "            \n",
    "            # Łączymy stan początkowy nowego automatu ze stanem początkowym nfa1\n",
    "            initial.edge1 = nfa1.initial\n",
    "            initial.edge2 = accept\n",
    "            \n",
    "            # Łączymy stan akceptujący nfa1 ze stanem akceptującym nowego automatu\n",
    "            nfa1.accept.edge1 = accept\n",
    "\n",
    "            # Nowy automat dodajemy na stos\n",
    "            nfaStack.append(nfa(initial, accept))\n",
    "            \n",
    "        elif c == '+':\n",
    "            # Zdejmujemy automat ze stosu\n",
    "            nfa1 = nfaStack.pop()\n",
    "\n",
    "            # Tworzymy stan początkowy i końcowy dla nowego automatu\n",
    "            initial = state()\n",
    "            accept = state()\n",
    "            \n",
    "            # Łączymy krawędź nowego stanu początkowego ze stanem początkowym nfa1\n",
    "            initial.edge1 = nfa1.initial\n",
    "            \n",
    "            # Łączymy krawędzie stanu akceptującego nfa1 ze stanem początkowym nfa1 oraz nowym stanem akceptującym\n",
    "            nfa1.accept.edge1 = nfa1.initial\n",
    "            nfa1.accept.edge2 = accept\n",
    "\n",
    "            # Nowy automat dodajemy na stos\n",
    "            nfaStack.append(nfa(initial, accept))\n",
    "\n",
    "        elif c == '*':\n",
    "            # Zdejmujemy automat ze stosu\n",
    "            nfa1 = nfaStack.pop() \n",
    "\n",
    "            # Tworzymy stan początkowy i końcowy dla nowego automatu\n",
    "            initial = state()\n",
    "            accept = state()\n",
    "\n",
    "            # Łączymy krawędzie nowego stanu początkowego ze stanem początkowym nfa1 oraz nowym stanem akceptującym\n",
    "            initial.edge1 = nfa1.initial\n",
    "            initial.edge2 = accept\n",
    "\n",
    "            # Łączymy krawędzie stanu akceptującego nfa1 ze stanem początkowym nfa1 oraz nowym stanem akceptującym\n",
    "            nfa1.accept.edge1 = nfa1.initial\n",
    "            nfa1.accept.edge2 = accept\n",
    "\n",
    "            # Nowy automat dodajemy na stos\n",
    "            nfaStack.append(nfa(initial, accept))\n",
    "\n",
    "        elif c == '@': # konkatenacja\n",
    "            # Zdejmujemy dwa automaty ze stosu\n",
    "            nfa2 = nfaStack.pop() \n",
    "            nfa1 = nfaStack.pop()\n",
    "            \n",
    "            # Łączymy stan akceptujący pierwszego automatu ze stanem początkowym drugiego\n",
    "            nfa1.accept.edge1 = nfa2.initial\n",
    "\n",
    "            # Nowy automat dodajemy na stos\n",
    "            nfaStack.append(nfa(nfa1.initial, nfa2.accept))\n",
    "        elif c == '|': # alternatywa\n",
    "            # Zdejmujemy dwa automaty ze stosu\n",
    "            nfa2 = nfaStack.pop() \n",
    "            nfa1 = nfaStack.pop()\n",
    "\n",
    "            # Tworzymy nowy stan początkowy i łączymy go ze stanami początkowymi nfa1 i nfa2\n",
    "            initial = state()\n",
    "            initial.edge1 = nfa1.initial\n",
    "            initial.edge2 = nfa2.initial\n",
    "            \n",
    "            # Tworzymy nowy stan akceptujący i łączymy z nim stany akceptujące nfa1 i nfa2\n",
    "            accept = state()\n",
    "            nfa1.accept.edge1 = accept\n",
    "            nfa2.accept.edge1 = accept\n",
    "\n",
    "            # Nowy automat dodajemy na stos\n",
    "            nfaStack.append(nfa(initial, accept))\n",
    "        else:\n",
    "            # Tworzymy stan początkowy i końcowy dla nowego automatu\n",
    "            accept = state()\n",
    "            initial = state()\n",
    "\n",
    "            # Łączymy stan początkowy i akceptujący używając danego znaku ('c')\n",
    "            initial.label = c \n",
    "            initial.edge1 = accept \n",
    "\n",
    "            # Nowy automat dodajemy na stos\n",
    "            nfaStack.append(nfa(initial, accept))\n",
    "    \n",
    "    # Gotowy automat jest wierzchołkiem stosu (stos zawiera tylko 1 element)\n",
    "    return nfaStack.pop()"
   ]
  },
  {
   "cell_type": "markdown",
   "metadata": {},
   "source": [
    "W tym momencie nie za bardzo mamy jak przetestować nasz automat (potrzebna jest funkcja przechodząca po automacie). Potrzebne funkcje widoczne są poniżej."
   ]
  },
  {
   "cell_type": "code",
   "execution_count": 267,
   "metadata": {},
   "outputs": [],
   "source": [
    "# funkcja zwracająca zbiór osiągalnych stanów z danego stanu przechodząc po krawędziach 'epsilon'\n",
    "def followEpsilons(state):\n",
    "    # tworzenie zbioru stanów osiągalnych, początkowo zawiera tylko dany stan\n",
    "    states = set()\n",
    "    states.add(state)\n",
    "\n",
    "    # Sprawdzamy czy stan ma krawędzie 'epsilon'\n",
    "    if state.label is None:\n",
    "        # Sprawdzenie czy edge1 jest stanem\n",
    "        if state.edge1 is not None:\n",
    "            # Jeśli tak, to przechodzimy dalej\n",
    "            states |= followEpsilons(state.edge1)\n",
    "        # Sprawdzenie czy edge2 jest stanem\n",
    "        if state.edge2 is not None:\n",
    "            # Jeśli tak, to przechodzimy dalej\n",
    "            states |= followEpsilons(state.edge2)\n",
    "\n",
    "    # Zwracamy zbiór osiągalnych stanów\n",
    "    return states\n",
    "\n",
    "# funkcja sprawdzająca zgodność słowa z danym wyrażeniem regularnym\n",
    "# True - zgodne, False - niezgodne\n",
    "def match(infix, string):\n",
    "    # Zmieniamy postać infiksową na postfiksową i tworzymy nasz automat (nfa)\n",
    "    postfix = to_postfix(infix)\n",
    "    nfa = compile(postfix)\n",
    "\n",
    "    # Zmienne symbolizujące teraźniejszy zbiór stanów i kolejny zbiór stanów\n",
    "    currentState = set()\n",
    "    nextState = set()\n",
    "\n",
    "    # Początkowy zbiór stanów\n",
    "    currentState |= followEpsilons(nfa.initial)\n",
    "\n",
    "    # Przechodzimy po każdym znaku\n",
    "    for s in string:\n",
    "        # Przeszukujemy teraźniejszy zbiór stanów\n",
    "        for c in currentState:\n",
    "            # Sprawdzamy czy istnieje odpowiednia krawędź\n",
    "            if c.label == s or c.label == '.':\n",
    "                # Jeśli tak, dodajemy kolejne stany\n",
    "                nextState |= followEpsilons(c.edge1)\n",
    "\n",
    "        # Zamieniamy zbiory i resetujemy\n",
    "        currentState = nextState\n",
    "        nextState = set()\n",
    "    \n",
    "    # Zwracamy informacje czy automat zakończył pracę w stanie akceptującym\n",
    "    return nfa.accept in currentState"
   ]
  },
  {
   "cell_type": "markdown",
   "metadata": {},
   "source": [
    "Całe testowanie działania powyższego algorytmu widoczne jest w kolejnym punkcie. W tym miejscu chciałbym opisać możliwości zbudowanego automatu.  \n",
    "  \n",
    "Zbudowany automat pozwala interpretować wyrażenia regularne zawierające:  \n",
    " - litery ($[a-z],[A-Z]$), cyfry ($[0-9]$) oraz spacje \n",
    " - kropkę $.$ symbolizującą dowolny znak\n",
    " - symbol gwiazdki $*$ symbolizujący powtórzenie znaku $0$ lub więcej razy  \n",
    " - symbol plusa $+$ symbolizujący powtórzenie znaku $1$ lub więcej razy\n",
    " - symbol pytajnika $?$ symbolizujący powtórzenie znaku $0$ lub $1$ raz\n",
    " - odpowiednio zagnieżdzone nawiasy $($ oraz $)$ umożliwiające użycie $*$, $+$ oraz $?$ dla więcej niż jednego znaku\n",
    " - wyrażenia w kwadratowych nawiasach oznaczające wystąpienie jednego z podanych znaków (np. $[abc]$ oznacza symbol $a$, $b$ lub $c$)\n",
    " - wyrażenia \\s, \\d, oraz \\w oznaczające odpowiednio dowolny znak biały, cyfrę lub literę\n",
    "\n",
    "Automat zakłada, iż wprowadzone wyrażenie jest poprawne."
   ]
  },
  {
   "cell_type": "markdown",
   "metadata": {},
   "source": [
    "# 2. Testowanie działania algorytmu"
   ]
  },
  {
   "cell_type": "markdown",
   "metadata": {},
   "source": [
    "Przetestuję teraz działanie wszystkich wymienionych powyżej opcji. Na koniec przetestuje działanie kilku złożonych wyrażeń. Każdy wynik porównuje z Pythonowym regex'em."
   ]
  },
  {
   "cell_type": "code",
   "execution_count": 247,
   "metadata": {},
   "outputs": [],
   "source": [
    "import re"
   ]
  },
  {
   "cell_type": "code",
   "execution_count": 248,
   "metadata": {},
   "outputs": [],
   "source": [
    "# ułatwienie\n",
    "def python_regex(regex, txt):\n",
    "    res = re.compile(regex).match(txt)\n",
    "    if res is None:\n",
    "        return False\n",
    "    return True"
   ]
  },
  {
   "cell_type": "markdown",
   "metadata": {},
   "source": [
    "### Litery, cyfry i spacje"
   ]
  },
  {
   "cell_type": "code",
   "execution_count": 249,
   "metadata": {},
   "outputs": [
    {
     "name": "stdout",
     "output_type": "stream",
     "text": [
      "False\n",
      "False\n",
      "True\n",
      "True\n",
      "False\n",
      "False\n"
     ]
    }
   ],
   "source": [
    "reg = 'algorytm 20'\n",
    "pyth_reg = reg + '$'\n",
    "txt1 = ''\n",
    "txt2 = 'algorytm 20'\n",
    "txt3 = 'algorytm 201'\n",
    "\n",
    "print(match(reg,txt1))\n",
    "print(python_regex(pyth_reg,txt1))\n",
    "\n",
    "print(match(reg,txt2))\n",
    "print(python_regex(pyth_reg,txt2))\n",
    "\n",
    "print(match(reg,txt3))\n",
    "print(python_regex(pyth_reg,txt3))"
   ]
  },
  {
   "cell_type": "markdown",
   "metadata": {},
   "source": [
    "### Kropka"
   ]
  },
  {
   "cell_type": "code",
   "execution_count": 250,
   "metadata": {},
   "outputs": [
    {
     "name": "stdout",
     "output_type": "stream",
     "text": [
      "False\n",
      "False\n",
      "True\n",
      "True\n",
      "False\n",
      "False\n"
     ]
    }
   ],
   "source": [
    "reg = 'abc.'\n",
    "pyth_reg = reg + '$'\n",
    "txt1 = ''\n",
    "txt2 = 'abcd'\n",
    "txt3 = 'abcde'\n",
    "\n",
    "print(match(reg,txt1))\n",
    "print(python_regex(pyth_reg,txt1))\n",
    "\n",
    "print(match(reg,txt2))\n",
    "print(python_regex(pyth_reg,txt2))\n",
    "\n",
    "print(match(reg,txt3))\n",
    "print(python_regex(pyth_reg,txt3))"
   ]
  },
  {
   "cell_type": "markdown",
   "metadata": {},
   "source": [
    "### Gwiazdka"
   ]
  },
  {
   "cell_type": "code",
   "execution_count": 251,
   "metadata": {},
   "outputs": [
    {
     "name": "stdout",
     "output_type": "stream",
     "text": [
      "False\n",
      "False\n",
      "True\n",
      "True\n",
      "True\n",
      "True\n",
      "True\n",
      "True\n"
     ]
    }
   ],
   "source": [
    "reg = 'abc*'\n",
    "pyth_reg = reg + '$'\n",
    "txt1 = 'a'\n",
    "txt2 = 'ab'\n",
    "txt3 = 'abc'\n",
    "txt4 = 'abccccccccccc'\n",
    "\n",
    "print(match(reg,txt1))\n",
    "print(python_regex(pyth_reg,txt1))\n",
    "\n",
    "print(match(reg,txt2))\n",
    "print(python_regex(pyth_reg,txt2))\n",
    "\n",
    "print(match(reg,txt3))\n",
    "print(python_regex(pyth_reg,txt3))\n",
    "\n",
    "print(match(reg,txt4))\n",
    "print(python_regex(pyth_reg,txt4))"
   ]
  },
  {
   "cell_type": "markdown",
   "metadata": {},
   "source": [
    "### Plus"
   ]
  },
  {
   "cell_type": "code",
   "execution_count": 252,
   "metadata": {},
   "outputs": [
    {
     "name": "stdout",
     "output_type": "stream",
     "text": [
      "False\n",
      "False\n",
      "False\n",
      "False\n",
      "True\n",
      "True\n",
      "True\n",
      "True\n"
     ]
    }
   ],
   "source": [
    "reg = 'abc+'\n",
    "pyth_reg = reg + '$'\n",
    "txt1 = 'a'\n",
    "txt2 = 'ab'\n",
    "txt3 = 'abc'\n",
    "txt4 = 'abccccccccccc'\n",
    "\n",
    "print(match(reg,txt1))\n",
    "print(python_regex(pyth_reg,txt1))\n",
    "\n",
    "print(match(reg,txt2))\n",
    "print(python_regex(pyth_reg,txt2))\n",
    "\n",
    "print(match(reg,txt3))\n",
    "print(python_regex(pyth_reg,txt3))\n",
    "\n",
    "print(match(reg,txt4))\n",
    "print(python_regex(pyth_reg,txt4))"
   ]
  },
  {
   "cell_type": "markdown",
   "metadata": {},
   "source": [
    "### Pytajnik"
   ]
  },
  {
   "cell_type": "code",
   "execution_count": 253,
   "metadata": {},
   "outputs": [
    {
     "name": "stdout",
     "output_type": "stream",
     "text": [
      "False\n",
      "False\n",
      "True\n",
      "True\n",
      "True\n",
      "True\n",
      "False\n",
      "False\n"
     ]
    }
   ],
   "source": [
    "reg = 'abc?'\n",
    "pyth_reg = reg + '$'\n",
    "txt1 = 'a'\n",
    "txt2 = 'ab'\n",
    "txt3 = 'abc'\n",
    "txt4 = 'abccccccccccc'\n",
    "\n",
    "print(match(reg,txt1))\n",
    "print(python_regex(pyth_reg,txt1))\n",
    "\n",
    "print(match(reg,txt2))\n",
    "print(python_regex(pyth_reg,txt2))\n",
    "\n",
    "print(match(reg,txt3))\n",
    "print(python_regex(pyth_reg,txt3))\n",
    "\n",
    "print(match(reg,txt4))\n",
    "print(python_regex(pyth_reg,txt4))"
   ]
  },
  {
   "cell_type": "markdown",
   "metadata": {},
   "source": [
    "### Nawiasy (oraz alternatywa)"
   ]
  },
  {
   "cell_type": "code",
   "execution_count": 259,
   "metadata": {},
   "outputs": [
    {
     "name": "stdout",
     "output_type": "stream",
     "text": [
      "False\n",
      "False\n",
      "True\n",
      "True\n",
      "True\n",
      "True\n",
      "False\n",
      "False\n"
     ]
    }
   ],
   "source": [
    "reg = '(a|b|c)+'\n",
    "pyth_reg = reg + '$'\n",
    "txt1 = ''\n",
    "txt2 = 'ab'\n",
    "txt3 = 'abc'\n",
    "txt4 = 'abcccccccccccd'\n",
    "\n",
    "print(match(reg,txt1))\n",
    "print(python_regex(pyth_reg,txt1))\n",
    "\n",
    "print(match(reg,txt2))\n",
    "print(python_regex(pyth_reg,txt2))\n",
    "\n",
    "print(match(reg,txt3))\n",
    "print(python_regex(pyth_reg,txt3))\n",
    "\n",
    "print(match(reg,txt4))\n",
    "print(python_regex(pyth_reg,txt4))"
   ]
  },
  {
   "cell_type": "markdown",
   "metadata": {},
   "source": [
    "### Kwadratowe nawiasy"
   ]
  },
  {
   "cell_type": "code",
   "execution_count": 260,
   "metadata": {},
   "outputs": [
    {
     "name": "stdout",
     "output_type": "stream",
     "text": [
      "True\n",
      "True\n",
      "True\n",
      "True\n",
      "True\n",
      "True\n",
      "False\n",
      "False\n"
     ]
    }
   ],
   "source": [
    "reg = 'ab[cde]*'\n",
    "pyth_reg = reg + '$'\n",
    "txt1 = 'ab'\n",
    "txt2 = 'abc'\n",
    "txt3 = 'abcdecde'\n",
    "txt4 = 'abcf'\n",
    "\n",
    "print(match(reg,txt1))\n",
    "print(python_regex(pyth_reg,txt1))\n",
    "\n",
    "print(match(reg,txt2))\n",
    "print(python_regex(pyth_reg,txt2))\n",
    "\n",
    "print(match(reg,txt3))\n",
    "print(python_regex(pyth_reg,txt3))\n",
    "\n",
    "print(match(reg,txt4))\n",
    "print(python_regex(pyth_reg,txt4))"
   ]
  },
  {
   "cell_type": "markdown",
   "metadata": {},
   "source": [
    "### Grupy znaków"
   ]
  },
  {
   "cell_type": "code",
   "execution_count": 261,
   "metadata": {},
   "outputs": [
    {
     "name": "stdout",
     "output_type": "stream",
     "text": [
      "False\n",
      "False\n",
      "True\n",
      "True\n",
      "True\n",
      "True\n",
      "True\n",
      "True\n",
      "True\n",
      "True\n"
     ]
    }
   ],
   "source": [
    "reg = '(\\w)+(\\s)*(\\d)*'\n",
    "pyth_reg = reg + '$'\n",
    "txt1 = ''\n",
    "txt2 = 'alphabet'\n",
    "txt3 = 'alphabet100'\n",
    "txt4 = 'alphabet 100'\n",
    "txt5 = 'alphabet '\n",
    "\n",
    "print(match(reg,txt1))\n",
    "print(python_regex(pyth_reg,txt1))\n",
    "\n",
    "print(match(reg,txt2))\n",
    "print(python_regex(pyth_reg,txt2))\n",
    "\n",
    "print(match(reg,txt3))\n",
    "print(python_regex(pyth_reg,txt3))\n",
    "\n",
    "print(match(reg,txt4))\n",
    "print(python_regex(pyth_reg,txt4))\n",
    "\n",
    "print(match(reg,txt5))\n",
    "print(python_regex(pyth_reg,txt5))"
   ]
  },
  {
   "cell_type": "markdown",
   "metadata": {},
   "source": [
    "Jak widać wszystko działa zgodnie z założeniami. Wykonane zadanie jest zatem poprawne. Poniżej kilka ciekawszych wyrażeń regularnych."
   ]
  },
  {
   "cell_type": "markdown",
   "metadata": {},
   "source": [
    "### Numer telefonu"
   ]
  },
  {
   "cell_type": "code",
   "execution_count": 262,
   "metadata": {},
   "outputs": [
    {
     "name": "stdout",
     "output_type": "stream",
     "text": [
      "False\n",
      "False\n",
      "True\n",
      "True\n",
      "False\n",
      "False\n",
      "True\n",
      "True\n",
      "False\n",
      "False\n"
     ]
    }
   ],
   "source": [
    "reg = '\\d\\d\\d\\d\\d\\d\\d\\d\\d'\n",
    "pyth_reg = reg + '$'\n",
    "txt1 = '123'\n",
    "txt2 = '123456789'\n",
    "txt3 = '+48123432829'\n",
    "txt4 = '794084017'\n",
    "txt5 = 'phone number'\n",
    "\n",
    "print(match(reg,txt1))\n",
    "print(python_regex(pyth_reg,txt1))\n",
    "\n",
    "print(match(reg,txt2))\n",
    "print(python_regex(pyth_reg,txt2))\n",
    "\n",
    "print(match(reg,txt3))\n",
    "print(python_regex(pyth_reg,txt3))\n",
    "\n",
    "print(match(reg,txt4))\n",
    "print(python_regex(pyth_reg,txt4))\n",
    "\n",
    "print(match(reg,txt5))\n",
    "print(python_regex(pyth_reg,txt5))"
   ]
  },
  {
   "cell_type": "markdown",
   "metadata": {},
   "source": [
    "### Strona internetowa"
   ]
  },
  {
   "cell_type": "code",
   "execution_count": 263,
   "metadata": {},
   "outputs": [
    {
     "name": "stdout",
     "output_type": "stream",
     "text": [
      "False\n",
      "False\n",
      "True\n",
      "True\n",
      "False\n",
      "False\n",
      "False\n",
      "False\n",
      "True\n",
      "True\n"
     ]
    }
   ],
   "source": [
    "reg = 'www.\\w+.com'\n",
    "pyth_reg = reg + '$'\n",
    "txt1 = 'www'\n",
    "txt2 = 'www.facebook.com'\n",
    "txt3 = 'www.youtube.co'\n",
    "txt4 = 'localhost:8882'\n",
    "txt5 = 'www.ilovealgorithms.com'\n",
    "\n",
    "print(match(reg,txt1))\n",
    "print(python_regex(pyth_reg,txt1))\n",
    "\n",
    "print(match(reg,txt2))\n",
    "print(python_regex(pyth_reg,txt2))\n",
    "\n",
    "print(match(reg,txt3))\n",
    "print(python_regex(pyth_reg,txt3))\n",
    "\n",
    "print(match(reg,txt4))\n",
    "print(python_regex(pyth_reg,txt4))\n",
    "\n",
    "print(match(reg,txt5))\n",
    "print(python_regex(pyth_reg,txt5))"
   ]
  },
  {
   "cell_type": "markdown",
   "metadata": {},
   "source": [
    "### Liczby rzeczywiste"
   ]
  },
  {
   "cell_type": "code",
   "execution_count": 265,
   "metadata": {},
   "outputs": [
    {
     "name": "stdout",
     "output_type": "stream",
     "text": [
      "False\n",
      "False\n",
      "True\n",
      "True\n",
      "True\n",
      "True\n",
      "True\n",
      "True\n",
      "False\n",
      "False\n"
     ]
    }
   ],
   "source": [
    "reg = '\\d*.\\d+'\n",
    "pyth_reg = reg + '$'\n",
    "txt1 = ''\n",
    "txt2 = '512.321'\n",
    "txt3 = '100.000'\n",
    "txt4 = '.123'\n",
    "txt5 = '100.000.000'\n",
    "\n",
    "print(match(reg,txt1))\n",
    "print(python_regex(pyth_reg,txt1))\n",
    "\n",
    "print(match(reg,txt2))\n",
    "print(python_regex(pyth_reg,txt2))\n",
    "\n",
    "print(match(reg,txt3))\n",
    "print(python_regex(pyth_reg,txt3))\n",
    "\n",
    "print(match(reg,txt4))\n",
    "print(python_regex(pyth_reg,txt4))\n",
    "\n",
    "print(match(reg,txt5))\n",
    "print(python_regex(pyth_reg,txt5))"
   ]
  },
  {
   "cell_type": "markdown",
   "metadata": {},
   "source": [
    "# 3. Wniosek"
   ]
  },
  {
   "cell_type": "markdown",
   "metadata": {},
   "source": [
    "Wykonane zadanie było zdecydowanie jednym z ciekawszych na tym kursie. Wykorzystany tutaj algorytm jest powszechnie używany w wielu miejscach (np. poprawność hasła, maila itp) więc implementacja takiego algorytmu jest rzeczą jak najbardziej pożyteczną (jak i satysfakcjonującą). Poprzedni punkt pokazuje poprawność wykonanego zadania. Stworzony silnik warto poszerzyć o dodatkowe możliwości (np. dodanie przedziału przy pomocy myślnika $[a-z]$)."
   ]
  }
 ],
 "metadata": {
  "kernelspec": {
   "display_name": "Python 3",
   "language": "python",
   "name": "python3"
  },
  "language_info": {
   "codemirror_mode": {
    "name": "ipython",
    "version": 3
   },
   "file_extension": ".py",
   "mimetype": "text/x-python",
   "name": "python",
   "nbconvert_exporter": "python",
   "pygments_lexer": "ipython3",
   "version": "3.7.6"
  }
 },
 "nbformat": 4,
 "nbformat_minor": 4
}
