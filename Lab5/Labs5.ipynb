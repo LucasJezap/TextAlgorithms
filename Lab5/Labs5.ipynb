{
 "cells": [
  {
   "cell_type": "markdown",
   "metadata": {},
   "source": [
    "# Algorytmy tekstowe 2019/2020"
   ]
  },
  {
   "cell_type": "markdown",
   "metadata": {},
   "source": [
    "# Laboratorium 5"
   ]
  },
  {
   "cell_type": "markdown",
   "metadata": {},
   "source": [
    "# Autor - Łukasz Jezapkowicz"
   ]
  },
  {
   "cell_type": "markdown",
   "metadata": {},
   "source": [
    "# Zadanie dotyczy wyszukiwania wzorców dwuwymiarowych."
   ]
  },
  {
   "cell_type": "markdown",
   "metadata": {},
   "source": [
    "# 0. Przygotowanie danych"
   ]
  },
  {
   "cell_type": "markdown",
   "metadata": {},
   "source": [
    "Dla tak małego pliku jakim jest \"haystack.txt\" uznałem, że nie będzie mocno krzywdzące (pod względem wydajności) wypełnienie go wybranym symbolem '#' w celu osiągnięcia tekstu o równej długości wszystkich linii."
   ]
  },
  {
   "cell_type": "code",
   "execution_count": 3,
   "metadata": {
    "scrolled": false
   },
   "outputs": [],
   "source": [
    "# otwieranie pliku\n",
    "def open_file(file):\n",
    "    file = open(file,mode='r', encoding=\"utf-8\")\n",
    "    data = file.read()\n",
    "    file.close()\n",
    "    return data"
   ]
  },
  {
   "cell_type": "code",
   "execution_count": 4,
   "metadata": {
    "scrolled": false
   },
   "outputs": [],
   "source": [
    "# wypełnianie pliku znakiem '#' (nie występuje ani razu) w celu równej długości każdej linii\n",
    "def adapt_text(text):\n",
    "    lines = text.splitlines()\n",
    "    new_lines = []\n",
    "    max_number_of_lines = 0\n",
    "    for line in lines:\n",
    "        if len(line) > max_number_of_lines:\n",
    "            max_number_of_lines = len(line)\n",
    "    \n",
    "    for line in lines:\n",
    "        new_lines.append(list(line.ljust(max_number_of_lines,'#')))\n",
    "    \n",
    "    return new_lines"
   ]
  },
  {
   "cell_type": "markdown",
   "metadata": {},
   "source": [
    "Tekst przechowuje jako liste list w celu lepszego dostępu do jej elementów w algorytmie."
   ]
  },
  {
   "cell_type": "code",
   "execution_count": 5,
   "metadata": {
    "scrolled": false
   },
   "outputs": [
    {
     "name": "stdout",
     "output_type": "stream",
     "text": [
      "['O', 'n', 'e', ' ', 'o', 'f', ' ', 't', 'h', 'e', ' ', 's', 'i', 'm', 'p', 'l', 'e', 's', 't', ' ']...\n",
      "['o', 'f', ' ', 'w', 'r', 'i', 't', 't', 'e', 'n', ' ', 't', 'e', 'x', 't', 's', '.', ' ', 'T', 'h']...\n",
      "['b', 'e', ' ', 'w', 'r', 'i', 't', 't', 'e', 'n', ' ', 'd', 'o', 'w', 'n', ' ', 'a', 's', ' ', 'a']...\n",
      "...\n"
     ]
    }
   ],
   "source": [
    "haystack_text = adapt_text(open_file(\"haystack.txt\"))\n",
    "print(str(haystack_text[0][:20]) + '...')\n",
    "print(str(haystack_text[1][:20]) + '...')\n",
    "print(str(haystack_text[2][:20]) + '...')\n",
    "print('...')"
   ]
  },
  {
   "cell_type": "markdown",
   "metadata": {},
   "source": [
    "Obraz \"haystack.png\" przechowywać będę jako macierz dwuwymiarową, w której każdy element zawiera albo 0 albo 1 (tryb czarno-biały)"
   ]
  },
  {
   "cell_type": "code",
   "execution_count": 6,
   "metadata": {
    "scrolled": false
   },
   "outputs": [],
   "source": [
    "# funkcja zwracająca zdjęcie jako tablicę dwuwymiarową o wartościach 0/1\n",
    "def convert_to_binary_array(image):\n",
    "    new_image = image.convert('P', palette=Image.ADAPTIVE, colors=256)\n",
    "    A = array(new_image)\n",
    "    data = []\n",
    "    \n",
    "    for i in range(len(A)):\n",
    "        column = []\n",
    "        for j in range(len(A[i])):\n",
    "            column.append(A[i][j])\n",
    "        data.append(column)\n",
    "    return data"
   ]
  },
  {
   "cell_type": "code",
   "execution_count": 7,
   "metadata": {
    "scrolled": false
   },
   "outputs": [
    {
     "name": "stdout",
     "output_type": "stream",
     "text": [
      "[0, 0, 0, 0, 0, 0, 0, 0, 0, 0, 0, 0, 0, 0, 0, 0, 0, 0, 0, 0]...\n",
      "[0, 0, 0, 0, 0, 0, 0, 0, 0, 0, 0, 0, 0, 0, 0, 0, 0, 0, 0, 0]...\n",
      "[0, 0, 0, 0, 0, 0, 0, 0, 0, 0, 0, 0, 0, 0, 0, 0, 0, 0, 0, 0]...\n",
      "...\n"
     ]
    }
   ],
   "source": [
    "from PIL import Image\n",
    "from numpy import empty,array\n",
    "\n",
    "haystack_image = Image.open('haystack.png')\n",
    "haystack_image_data = convert_to_binary_array(haystack_image)\n",
    "            \n",
    "print(str(haystack_image_data[0][:20]) + '...')\n",
    "print(str(haystack_image_data[1][:20]) + '...')\n",
    "print(str(haystack_image_data[2][:20]) + '...')\n",
    "print('...')"
   ]
  },
  {
   "cell_type": "markdown",
   "metadata": {},
   "source": [
    "# 1. Zaimplementuj algorytm wyszukiwania wzorca 2-wymiarowego."
   ]
  },
  {
   "cell_type": "markdown",
   "metadata": {},
   "source": [
    "Na początku zaimplementuję funkcje, które budują automat dla podanej listy wzorców."
   ]
  },
  {
   "cell_type": "code",
   "execution_count": 8,
   "metadata": {
    "scrolled": false
   },
   "outputs": [],
   "source": [
    "# klasa symbolizująca węzeł\n",
    "class Node:\n",
    "    def __init__(self, index):\n",
    "        self.goto = {}\n",
    "        self.out = []\n",
    "        self.fail = None\n",
    "        self.index = index\n",
    "\n",
    "# funkcja tworząca nowy węzeł dla każdego znaku w każdym wzorcu\n",
    "def create_forest(patterns):\n",
    "    root = Node(0)\n",
    "     \n",
    "    i = 1\n",
    "    for path in patterns:\n",
    "        node = root\n",
    "        for symbol in path:\n",
    "            node = node.goto.setdefault(symbol, Node(i))\n",
    "            i += 1\n",
    "        node.out.append(path)\n",
    "    return root\n",
    "\n",
    "# funkcja budująca automat dla listy wzorców - Aho-Corasick\n",
    "def build_automata(patterns):\n",
    "    root = create_forest(patterns)\n",
    "    queue = []\n",
    "    for node in root.goto.values():\n",
    "        queue.append(node)\n",
    "        node.fail = root\n",
    " \n",
    "    while len(queue) > 0:\n",
    "        rnode = queue.pop(0)\n",
    " \n",
    "        for key, unode in rnode.goto.items():\n",
    "            queue.append(unode)\n",
    "            fnode = rnode.fail\n",
    "            while fnode != None and not key in fnode.goto:\n",
    "                fnode = fnode.fail\n",
    "            unode.fail = fnode.goto[key] if fnode else root\n",
    "            unode.out += unode.fail.out\n",
    " \n",
    "    return root"
   ]
  },
  {
   "cell_type": "code",
   "execution_count": 9,
   "metadata": {
    "scrolled": false
   },
   "outputs": [],
   "source": [
    "# Wyszukiwanie wzorca jednowymiarowego - z laboratorium 1\n",
    "def KMPSearch(txt,pattern):\n",
    "    S = set()\n",
    "    K = []  \n",
    "    t = -1\n",
    "    K.append(t)\n",
    "    for k in range(1, len(pattern) + 1):\n",
    "        while(t >= 0 and pattern[t] != pattern[k - 1]):\n",
    "            t = K[t]\n",
    "        t = t + 1  \n",
    "        K.append(t)\n",
    "    m = 0  \n",
    "    for i in range(0, len(txt)):\n",
    "        while (m >= 0 and pattern[m] != txt[i]):\n",
    "            m = K[m]\n",
    "        m = m + 1  \n",
    "        if m == len(pattern):\n",
    "            S.add(i-m+1)\n",
    "            m = K[m]\n",
    "    return len(S), S"
   ]
  },
  {
   "cell_type": "code",
   "execution_count": 15,
   "metadata": {
    "scrolled": false
   },
   "outputs": [],
   "source": [
    "from time import time\n",
    "# funkcja wyszukująca wzorców dwuwymiarowych, patterns to lista kolejnych kolumn wzorca 2d\n",
    "def search_patterns(text,patterns,print_output=True):\n",
    "    time1 = time()\n",
    "    automata = build_automata(patterns)\n",
    "    \n",
    "    # numery kolejnych stanów prawidłowych\n",
    "    patterns_pattern = []\n",
    "    p_list = []\n",
    "    current = 0\n",
    "    for pattern in patterns:\n",
    "        current += len(pattern)\n",
    "        num = current\n",
    "        for p in p_list:\n",
    "            if p[0] == pattern:\n",
    "                num = p[1]\n",
    "                \n",
    "        patterns_pattern.append(num)\n",
    "        if num == current:\n",
    "            p_list.append((pattern,num))\n",
    "        \n",
    "    states = [[0 for _ in range(len(text[0]))] for _ in range(len(text))]\n",
    "        \n",
    "    # wypełniam macierz stanów dla kolejnych kolumn\n",
    "    for j in range(len(text[0])):\n",
    "        # kolumna j\n",
    "        node = automata\n",
    "        for i in range(len(text)):\n",
    "            while node != None and not text[i][j] in node.goto:\n",
    "                node = node.fail\n",
    "            if node == None:\n",
    "                node = automata\n",
    "                continue\n",
    "            node = node.goto[text[i][j]]\n",
    "            states[i][j] = node.index\n",
    "    \n",
    "    time2 = time()\n",
    "    # dla każdego wiersza macierzy stanów poszukuje \"patterns_pattern\"\n",
    "    i = -1 * len(patterns[0]) + 1\n",
    "    count = 0\n",
    "    for row in states:\n",
    "        lenS, S = KMPSearch(row,patterns_pattern)\n",
    "        count += lenS\n",
    "        if print_output:\n",
    "            for j in S:\n",
    "                print(\"Pattern found: (\" + str(i) + \",\" + str(j) + \") ... (\" + str(i) + \",\" + str(j+len(patterns)-1) + \")\")\n",
    "                print(\"               ...\")\n",
    "                print(\"               (\" + str(i+len(patterns[0])-1) + \",\" + str(j) + \") ... (\" + \\\n",
    "                      str(i+len(patterns[0])-1) + \",\" + str(j+len(patterns)-1) + \")\")\n",
    "        i += 1\n",
    "    print(\"Total number of pattern occurences = \" + str(count))\n",
    "    time3 = time()\n",
    "    \n",
    "    print(\"Automata building time => \" + str(1000 * (time2-time1)) + \" milliseconds\")\n",
    "    print(\"Searching time => \" + str(1000 * (time3-time2)) + \" milliseconds\")\n",
    "    return count"
   ]
  },
  {
   "cell_type": "markdown",
   "metadata": {},
   "source": [
    "# 2. Znajdź w załączonym pliku \"haystack.txt\" wszyskie sytuacje, gdy taka sama litera występuje na tej samej pozycji w dwóch kolejnych linijkach. Zwróć uwagę, na nierówną długość linii w pliku."
   ]
  },
  {
   "cell_type": "markdown",
   "metadata": {},
   "source": [
    "Z problemem nierównej długości linii w pliku uporałem się już w podpunkcie 0. Nie będę więc sobie nim już więcej zawracał głowy.  \n",
    "  \n",
    "  \n",
    "Żeby nie wykonywać algorytmu 256 razy, na początku w pojedynczym przejściu znajdę wszystkie litery, które występują w tym tekście."
   ]
  },
  {
   "cell_type": "code",
   "execution_count": 11,
   "metadata": {
    "scrolled": false
   },
   "outputs": [],
   "source": [
    "letters = set()\n",
    "for row in haystack_text:\n",
    "    for letter in row:\n",
    "        letters.add(letter)"
   ]
  },
  {
   "cell_type": "markdown",
   "metadata": {},
   "source": [
    "Teraz dla każdej występującej literki $x$ wyszukam wzorca $[[x],[x]]$ czyli pojedynczej kolumny o dwóch wierszach i wartościach $x$.  \n",
    "  \n",
    "Ponieważ moja funkcja przyjmuje liste wzorców, które są kolejnymi kolumnami wzorca dwuwymiarowego to do funkcji przekażę liste o jednym elemencie $[xx]$"
   ]
  },
  {
   "cell_type": "code",
   "execution_count": 13,
   "metadata": {
    "scrolled": true
   },
   "outputs": [
    {
     "name": "stdout",
     "output_type": "stream",
     "text": [
      "\n",
      "Letter 'd':\n",
      "Total number of pattern occurences = 1\n",
      "Automata building time => 1.9769668579101562 milliseconds\n",
      "Searching time => 1.9946098327636719 milliseconds\n",
      "\n",
      "Letter 'b':\n",
      "Total number of pattern occurences = 0\n",
      "Automata building time => 1.9948482513427734 milliseconds\n",
      "Searching time => 1.995086669921875 milliseconds\n",
      "\n",
      "Letter 'A':\n",
      "Total number of pattern occurences = 0\n",
      "Automata building time => 1.995086669921875 milliseconds\n",
      "Searching time => 1.9946098327636719 milliseconds\n",
      "\n",
      "Letter 'W':\n",
      "Total number of pattern occurences = 0\n",
      "Automata building time => 1.9941329956054688 milliseconds\n",
      "Searching time => 2.992391586303711 milliseconds\n",
      "\n",
      "Letter 'w':\n",
      "Total number of pattern occurences = 2\n",
      "Automata building time => 3.0193328857421875 milliseconds\n",
      "Searching time => 1.9941329956054688 milliseconds\n",
      "\n",
      "Letter '3':\n",
      "Total number of pattern occurences = 0\n",
      "Automata building time => 1.9683837890625 milliseconds\n",
      "Searching time => 1.9946098327636719 milliseconds\n",
      "\n",
      "Letter '5':\n",
      "Total number of pattern occurences = 0\n",
      "Automata building time => 2.9914379119873047 milliseconds\n",
      "Searching time => 1.9953250885009766 milliseconds\n",
      "\n",
      "Letter 'p':\n",
      "Total number of pattern occurences = 2\n",
      "Automata building time => 2.9916763305664062 milliseconds\n",
      "Searching time => 1.9946098327636719 milliseconds\n",
      "\n",
      "Letter '\"':\n",
      "Total number of pattern occurences = 0\n",
      "Automata building time => 2.02178955078125 milliseconds\n",
      "Searching time => 2.964496612548828 milliseconds\n",
      "\n",
      "Letter 'V':\n",
      "Total number of pattern occurences = 0\n",
      "Automata building time => 2.9926300048828125 milliseconds\n",
      "Searching time => 2.9916763305664062 milliseconds\n",
      "\n",
      "Letter 'r':\n",
      "Total number of pattern occurences = 21\n",
      "Automata building time => 2.0334720611572266 milliseconds\n",
      "Searching time => 2.003192901611328 milliseconds\n",
      "\n",
      "Letter 'x':\n",
      "Total number of pattern occurences = 1\n",
      "Automata building time => 0.9903907775878906 milliseconds\n",
      "Searching time => 1.9958019256591797 milliseconds\n",
      "\n",
      "Letter 'L':\n",
      "Total number of pattern occurences = 0\n",
      "Automata building time => 1.9931793212890625 milliseconds\n",
      "Searching time => 1.9958019256591797 milliseconds\n",
      "\n",
      "Letter 'D':\n",
      "Total number of pattern occurences = 0\n",
      "Automata building time => 2.9947757720947266 milliseconds\n",
      "Searching time => 1.99127197265625 milliseconds\n",
      "\n",
      "Letter 'U':\n",
      "Total number of pattern occurences = 0\n",
      "Automata building time => 1.9943714141845703 milliseconds\n",
      "Searching time => 1.995086669921875 milliseconds\n",
      "\n",
      "Letter 'F':\n",
      "Total number of pattern occurences = 0\n",
      "Automata building time => 1.9946098327636719 milliseconds\n",
      "Searching time => 1.9948482513427734 milliseconds\n",
      "\n",
      "Letter 'I':\n",
      "Total number of pattern occurences = 0\n",
      "Automata building time => 1.9948482513427734 milliseconds\n",
      "Searching time => 1.9941329956054688 milliseconds\n",
      "\n",
      "Letter 'g':\n",
      "Total number of pattern occurences = 0\n",
      "Automata building time => 1.9867420196533203 milliseconds\n",
      "Searching time => 1.992940902709961 milliseconds\n",
      "\n",
      "Letter 'C':\n",
      "Total number of pattern occurences = 0\n",
      "Automata building time => 1.9948482513427734 milliseconds\n",
      "Searching time => 1.9958019256591797 milliseconds\n",
      "\n",
      "Letter 'u':\n",
      "Total number of pattern occurences = 0\n",
      "Automata building time => 1.9938945770263672 milliseconds\n",
      "Searching time => 1.9946098327636719 milliseconds\n",
      "\n",
      "Letter 'X':\n",
      "Total number of pattern occurences = 0\n",
      "Automata building time => 2.9952526092529297 milliseconds\n",
      "Searching time => 2.952098846435547 milliseconds\n",
      "\n",
      "Letter '1':\n",
      "Total number of pattern occurences = 0\n",
      "Automata building time => 2.0322799682617188 milliseconds\n",
      "Searching time => 1.9941329956054688 milliseconds\n",
      "\n",
      "Letter 'c':\n",
      "Total number of pattern occurences = 6\n",
      "Automata building time => 1.9943714141845703 milliseconds\n",
      "Searching time => 1.9941329956054688 milliseconds\n",
      "\n",
      "Letter 'N':\n",
      "Total number of pattern occurences = 0\n",
      "Automata building time => 1.995086669921875 milliseconds\n",
      "Searching time => 1.9943714141845703 milliseconds\n",
      "\n",
      "Letter 'k':\n",
      "Total number of pattern occurences = 0\n",
      "Automata building time => 1.995086669921875 milliseconds\n",
      "Searching time => 1.9941329956054688 milliseconds\n",
      "\n",
      "Letter '6':\n",
      "Total number of pattern occurences = 0\n",
      "Automata building time => 1.9843578338623047 milliseconds\n",
      "Searching time => 1.995086669921875 milliseconds\n",
      "\n",
      "Letter ')':\n",
      "Total number of pattern occurences = 0\n",
      "Automata building time => 1.9946098327636719 milliseconds\n",
      "Searching time => 0.9977817535400391 milliseconds\n",
      "\n",
      "Letter 'e':\n",
      "Total number of pattern occurences = 48\n",
      "Automata building time => 1.983642578125 milliseconds\n",
      "Searching time => 1.9943714141845703 milliseconds\n",
      "\n",
      "Letter 'v':\n",
      "Total number of pattern occurences = 0\n",
      "Automata building time => 1.9948482513427734 milliseconds\n",
      "Searching time => 1.9946098327636719 milliseconds\n",
      "\n",
      "Letter 'n':\n",
      "Total number of pattern occurences = 15\n",
      "Automata building time => 1.9943714141845703 milliseconds\n",
      "Searching time => 1.9946098327636719 milliseconds\n",
      "\n",
      "Letter 'M':\n",
      "Total number of pattern occurences = 0\n",
      "Automata building time => 1.9686222076416016 milliseconds\n",
      "Searching time => 1.9941329956054688 milliseconds\n",
      "\n",
      "Letter 'R':\n",
      "Total number of pattern occurences = 0\n",
      "Automata building time => 1.9948482513427734 milliseconds\n",
      "Searching time => 1.9948482513427734 milliseconds\n",
      "\n",
      "Letter 'o':\n",
      "Total number of pattern occurences = 21\n",
      "Automata building time => 0.9973049163818359 milliseconds\n",
      "Searching time => 1.9946098327636719 milliseconds\n",
      "\n",
      "Letter 'P':\n",
      "Total number of pattern occurences = 0\n",
      "Automata building time => 1.9946098327636719 milliseconds\n",
      "Searching time => 1.9946098327636719 milliseconds\n",
      "\n",
      "Letter 'y':\n",
      "Total number of pattern occurences = 1\n",
      "Automata building time => 1.9948482513427734 milliseconds\n",
      "Searching time => 1.9946098327636719 milliseconds\n",
      "\n",
      "Letter 'G':\n",
      "Total number of pattern occurences = 0\n",
      "Automata building time => 1.9946098327636719 milliseconds\n",
      "Searching time => 1.9946098327636719 milliseconds\n",
      "\n",
      "Letter '0':\n",
      "Total number of pattern occurences = 0\n",
      "Automata building time => 1.9946098327636719 milliseconds\n",
      "Searching time => 0.9973049163818359 milliseconds\n",
      "\n",
      "Letter 'a':\n",
      "Total number of pattern occurences = 28\n",
      "Automata building time => 1.9946098327636719 milliseconds\n",
      "Searching time => 0.9973049163818359 milliseconds\n",
      "\n",
      "Letter 'Q':\n",
      "Total number of pattern occurences = 0\n",
      "Automata building time => 13.971328735351562 milliseconds\n",
      "Searching time => 1.9869804382324219 milliseconds\n",
      "\n",
      "Letter '.':\n",
      "Total number of pattern occurences = 0\n",
      "Automata building time => 1.9936561584472656 milliseconds\n",
      "Searching time => 1.9946098327636719 milliseconds\n",
      "\n",
      "Letter '7':\n",
      "Total number of pattern occurences = 0\n",
      "Automata building time => 1.9948482513427734 milliseconds\n",
      "Searching time => 1.9946098327636719 milliseconds\n",
      "\n",
      "Letter 'q':\n",
      "Total number of pattern occurences = 0\n",
      "Automata building time => 1.9948482513427734 milliseconds\n",
      "Searching time => 1.9943714141845703 milliseconds\n",
      "\n",
      "Letter ':':\n",
      "Total number of pattern occurences = 0\n",
      "Automata building time => 1.9948482513427734 milliseconds\n",
      "Searching time => 0.9970664978027344 milliseconds\n",
      "\n",
      "Letter 'B':\n",
      "Total number of pattern occurences = 0\n",
      "Automata building time => 1.995086669921875 milliseconds\n",
      "Searching time => 1.9943714141845703 milliseconds\n",
      "\n",
      "Letter 't':\n",
      "Total number of pattern occurences = 41\n",
      "Automata building time => 1.9946098327636719 milliseconds\n",
      "Searching time => 1.9948482513427734 milliseconds\n",
      "\n",
      "Letter 'O':\n",
      "Total number of pattern occurences = 0\n",
      "Automata building time => 2.9921531677246094 milliseconds\n",
      "Searching time => 1.9946098327636719 milliseconds\n",
      "\n",
      "Letter '-':\n",
      "Total number of pattern occurences = 0\n",
      "Automata building time => 1.995086669921875 milliseconds\n",
      "Searching time => 1.9943714141845703 milliseconds\n",
      "\n",
      "Letter 'E':\n",
      "Total number of pattern occurences = 0\n",
      "Automata building time => 1.9793510437011719 milliseconds\n",
      "Searching time => 1.9953250885009766 milliseconds\n",
      "\n",
      "Letter 'f':\n",
      "Total number of pattern occurences = 2\n",
      "Automata building time => 1.9941329956054688 milliseconds\n",
      "Searching time => 1.9948482513427734 milliseconds\n",
      "\n",
      "Letter 'z':\n",
      "Total number of pattern occurences = 0\n",
      "Automata building time => 2.9952526092529297 milliseconds\n",
      "Searching time => 0.9939670562744141 milliseconds\n",
      "\n",
      "Letter 'l':\n",
      "Total number of pattern occurences = 5\n",
      "Automata building time => 1.9946098327636719 milliseconds\n",
      "Searching time => 0.9973049163818359 milliseconds\n",
      "\n",
      "Letter 'S':\n",
      "Total number of pattern occurences = 0\n",
      "Automata building time => 1.9946098327636719 milliseconds\n",
      "Searching time => 1.9946098327636719 milliseconds\n",
      "\n",
      "Letter ',':\n",
      "Total number of pattern occurences = 0\n",
      "Automata building time => 0.9975433349609375 milliseconds\n",
      "Searching time => 1.9943714141845703 milliseconds\n",
      "\n",
      "Letter ' ':\n",
      "Total number of pattern occurences = 158\n",
      "Automata building time => 1.9948482513427734 milliseconds\n",
      "Searching time => 1.9943714141845703 milliseconds\n",
      "\n",
      "Letter '(':\n",
      "Total number of pattern occurences = 0\n",
      "Automata building time => 1.995086669921875 milliseconds\n",
      "Searching time => 1.9941329956054688 milliseconds\n",
      "\n",
      "Letter '#':\n",
      "Total number of pattern occurences = 2027\n",
      "Automata building time => 2.9921531677246094 milliseconds\n",
      "Searching time => 1.9948482513427734 milliseconds\n",
      "\n",
      "Letter 's':\n",
      "Total number of pattern occurences = 19\n",
      "Automata building time => 1.9946098327636719 milliseconds\n",
      "Searching time => 1.9946098327636719 milliseconds\n",
      "\n",
      "Letter ';':\n",
      "Total number of pattern occurences = 0\n",
      "Automata building time => 1.9946098327636719 milliseconds\n",
      "Searching time => 1.9946098327636719 milliseconds\n",
      "\n",
      "Letter 'i':\n",
      "Total number of pattern occurences = 13\n",
      "Automata building time => 1.9948482513427734 milliseconds\n",
      "Searching time => 1.9946098327636719 milliseconds\n",
      "\n",
      "Letter 'm':\n",
      "Total number of pattern occurences = 5\n",
      "Automata building time => 1.9948482513427734 milliseconds\n",
      "Searching time => 1.9953250885009766 milliseconds\n",
      "\n",
      "Letter 'T':\n",
      "Total number of pattern occurences = 0\n",
      "Automata building time => 1.9941329956054688 milliseconds\n",
      "Searching time => 1.9946098327636719 milliseconds\n",
      "\n",
      "Letter 'h':\n",
      "Total number of pattern occurences = 4\n",
      "Automata building time => 1.9946098327636719 milliseconds\n",
      "Searching time => 1.9948482513427734 milliseconds\n",
      "\n",
      "Letter 'j':\n",
      "Total number of pattern occurences = 0\n",
      "Automata building time => 1.9943714141845703 milliseconds\n",
      "Searching time => 1.9948482513427734 milliseconds\n"
     ]
    }
   ],
   "source": [
    "count = 0\n",
    "for letter in letters:\n",
    "    print(\"\\nLetter '\" + letter + \"':\")\n",
    "    count += search_patterns(haystack_text,[letter+letter],False)"
   ]
  },
  {
   "cell_type": "code",
   "execution_count": 14,
   "metadata": {
    "scrolled": false
   },
   "outputs": [
    {
     "name": "stdout",
     "output_type": "stream",
     "text": [
      "In total, there were 2420 occurences of such situations in text\n"
     ]
    }
   ],
   "source": [
    "print(\"In total, there were \" + str(count) + \" occurences of such situations in text\")"
   ]
  },
  {
   "cell_type": "markdown",
   "metadata": {},
   "source": [
    "Jak widać, jest to dosyć częsta sytuacja.  \n",
    "  \n",
    "Po ręcznym sprawdzeniu kilku wartości stwierdzam, iż algorytm odszukuje poprawnie taki wzorzec."
   ]
  },
  {
   "cell_type": "markdown",
   "metadata": {},
   "source": [
    "# 3. Znajdź wszystkie wystąpienia \"th\" oraz \"t h\" w dwóch kolejnych liniach na tej samej pozycji."
   ]
  },
  {
   "cell_type": "markdown",
   "metadata": {},
   "source": [
    "Zacznijmy od \"th\" w dwóch kolejnych liniach na tej samej pozycji.  \n",
    "  \n",
    "Jako liste wzorców podaje kolejne kolumny wzorca czyli $[tt,hh]$"
   ]
  },
  {
   "cell_type": "code",
   "execution_count": 16,
   "metadata": {
    "scrolled": false
   },
   "outputs": [
    {
     "name": "stdout",
     "output_type": "stream",
     "text": [
      "Total number of pattern occurences = 0\n",
      "Automata building time => 2.02178955078125 milliseconds\n",
      "Searching time => 1.9946098327636719 milliseconds\n"
     ]
    }
   ],
   "source": [
    "count = search_patterns(haystack_text,['tt','hh'])"
   ]
  },
  {
   "cell_type": "markdown",
   "metadata": {},
   "source": [
    "Ręczne przeszukanie pliku potwierdza, iż faktycznie nie ma takiej sytuacji w tym pliku.  \n",
    "  \n",
    "Teraz dla \"t h\" w dwóch kolejnych liniach na tej samej pozycji.  \n",
    "  \n",
    "Jako liste wzorców podaje kolejne kolumny wzorca czyli $[tt,--,hh]$, gdzie $-$ symbolizuje pusty znak."
   ]
  },
  {
   "cell_type": "code",
   "execution_count": 17,
   "metadata": {
    "scrolled": false
   },
   "outputs": [
    {
     "name": "stdout",
     "output_type": "stream",
     "text": [
      "Pattern found: (37,0) ... (37,2)\n",
      "               ...\n",
      "               (38,0) ... (38,2)\n",
      "Total number of pattern occurences = 1\n",
      "Automata building time => 2.992391586303711 milliseconds\n",
      "Searching time => 1.9938945770263672 milliseconds\n"
     ]
    }
   ],
   "source": [
    "count = search_patterns(haystack_text,['tt','  ','hh'])"
   ]
  },
  {
   "cell_type": "markdown",
   "metadata": {},
   "source": [
    "Ręczne przeszukanie pliku potwierdza, iż faktycznie taka sytuacja występuje tylko raz, w miejscu wskazanym przez algorytm.  \n",
    "  \n",
    "Stwierdzam zatem, iż algorytm działa poprawnie dla pliku tekstowego \"haystack.txt\"."
   ]
  },
  {
   "cell_type": "markdown",
   "metadata": {},
   "source": [
    "# 4. Wybierz przynajmniej 4 litery (małe). Znajdź wszystkie wystąpienia tej litery w załączonym pliku \"haystack.png\"."
   ]
  },
  {
   "cell_type": "markdown",
   "metadata": {},
   "source": [
    "Na początku manipulując metodą Image.crop postaram się wyciąć odpowiednie wzorce dla małych liter.  \n",
    "  \n",
    "Literki ścinałem tak długo jak długo program zwracał niepoprawny wynik."
   ]
  },
  {
   "cell_type": "code",
   "execution_count": 18,
   "metadata": {
    "scrolled": false
   },
   "outputs": [],
   "source": [
    "from IPython.display import Image"
   ]
  },
  {
   "cell_type": "code",
   "execution_count": 19,
   "metadata": {
    "scrolled": false
   },
   "outputs": [],
   "source": [
    "# funkcja zwracajaca odpowiedni wycinek macierzy\n",
    "def get_data(left,upper,right,lower):\n",
    "    data = []\n",
    "    for row in haystack_image_data[upper:lower]:\n",
    "        data.append(row[left:right])\n",
    "    return data"
   ]
  },
  {
   "cell_type": "markdown",
   "metadata": {},
   "source": [
    "Litera e:"
   ]
  },
  {
   "cell_type": "code",
   "execution_count": 20,
   "metadata": {
    "scrolled": false
   },
   "outputs": [
    {
     "data": {
      "image/png": "[encoded data removed]",
      "text/plain": [
       "<IPython.core.display.Image object>"
      ]
     },
     "execution_count": 20,
     "metadata": {},
     "output_type": "execute_result"
    }
   ],
   "source": [
    "pattern1 = haystack_image.crop((591,565,600,575))\n",
    "pattern1_data = get_data(591,565,600,575)\n",
    "Image(filename='e.png')"
   ]
  },
  {
   "cell_type": "markdown",
   "metadata": {},
   "source": [
    "Litera c:"
   ]
  },
  {
   "cell_type": "code",
   "execution_count": 21,
   "metadata": {
    "scrolled": false
   },
   "outputs": [
    {
     "data": {
      "image/png": "[encoded data removed]",
      "text/plain": [
       "<IPython.core.display.Image object>"
      ]
     },
     "execution_count": 21,
     "metadata": {},
     "output_type": "execute_result"
    }
   ],
   "source": [
    "pattern2 = haystack_image.crop((486,564,494,575))\n",
    "pattern2_data = get_data(486,564,494,575)\n",
    "Image(filename='c.png')"
   ]
  },
  {
   "cell_type": "markdown",
   "metadata": {},
   "source": [
    "Litera o:"
   ]
  },
  {
   "cell_type": "code",
   "execution_count": 22,
   "metadata": {
    "scrolled": false
   },
   "outputs": [
    {
     "data": {
      "image/png": "[encoded data removed]",
      "text/plain": [
       "<IPython.core.display.Image object>"
      ]
     },
     "execution_count": 22,
     "metadata": {},
     "output_type": "execute_result"
    }
   ],
   "source": [
    "pattern3 = haystack_image.crop((214,564,223,576))\n",
    "pattern3_data = get_data(214,564,223,576)\n",
    "Image(filename='o.png')"
   ]
  },
  {
   "cell_type": "markdown",
   "metadata": {},
   "source": [
    "Litera u:"
   ]
  },
  {
   "cell_type": "code",
   "execution_count": 23,
   "metadata": {
    "scrolled": false
   },
   "outputs": [
    {
     "data": {
      "image/png": "[encoded data removed]",
      "text/plain": [
       "<IPython.core.display.Image object>"
      ]
     },
     "execution_count": 23,
     "metadata": {},
     "output_type": "execute_result"
    }
   ],
   "source": [
    "pattern4 = haystack_image.crop((608,124,617,137))\n",
    "pattern4_data = get_data(608,124,617,137)\n",
    "Image(filename='u.png')"
   ]
  },
  {
   "cell_type": "markdown",
   "metadata": {},
   "source": [
    "Litera x:"
   ]
  },
  {
   "cell_type": "code",
   "execution_count": 24,
   "metadata": {
    "scrolled": false
   },
   "outputs": [
    {
     "data": {
      "image/png": "[encoded data removed]",
      "text/plain": [
       "<IPython.core.display.Image object>"
      ]
     },
     "execution_count": 24,
     "metadata": {},
     "output_type": "execute_result"
    }
   ],
   "source": [
    "pattern5 = haystack_image.crop((366,231,376,247))\n",
    "pattern5_data = get_data(366,231,376,247)\n",
    "Image(filename='x.png')"
   ]
  },
  {
   "cell_type": "markdown",
   "metadata": {},
   "source": [
    "Litera a:"
   ]
  },
  {
   "cell_type": "code",
   "execution_count": 25,
   "metadata": {
    "scrolled": false
   },
   "outputs": [
    {
     "data": {
      "image/png": "[encoded data removed]",
      "text/plain": [
       "<IPython.core.display.Image object>"
      ]
     },
     "execution_count": 25,
     "metadata": {},
     "output_type": "execute_result"
    }
   ],
   "source": [
    "pattern6 = haystack_image.crop((120,234,129,245))\n",
    "pattern6_data = get_data(120,234,129,245)\n",
    "Image(filename='a.png')"
   ]
  },
  {
   "cell_type": "code",
   "execution_count": 26,
   "metadata": {
    "scrolled": false
   },
   "outputs": [],
   "source": [
    "# funkcja zwracająca kolumny podanego wzorca\n",
    "def get_patterns_columns(data):\n",
    "    patterns = []\n",
    "    for j in range(len(data[0])):\n",
    "        column = []\n",
    "        for i in range(len(data)):\n",
    "            column.append(data[i][j])\n",
    "        patterns.append(column)\n",
    "    return patterns"
   ]
  },
  {
   "cell_type": "code",
   "execution_count": 27,
   "metadata": {
    "scrolled": true
   },
   "outputs": [
    {
     "name": "stdout",
     "output_type": "stream",
     "text": [
      "Total number of pattern occurences = 583\n",
      "Automata building time => 906.6071510314941 milliseconds\n",
      "Searching time => 387.92920112609863 milliseconds\n"
     ]
    }
   ],
   "source": [
    "count = search_patterns(haystack_image_data,get_patterns_columns(pattern1_data),False)"
   ]
  },
  {
   "cell_type": "code",
   "execution_count": 28,
   "metadata": {
    "scrolled": true
   },
   "outputs": [
    {
     "name": "stdout",
     "output_type": "stream",
     "text": [
      "Total number of pattern occurences = 213\n",
      "Automata building time => 847.722053527832 milliseconds\n",
      "Searching time => 376.07860565185547 milliseconds\n"
     ]
    }
   ],
   "source": [
    "count = search_patterns(haystack_image_data,get_patterns_columns(pattern2_data),False)"
   ]
  },
  {
   "cell_type": "code",
   "execution_count": 29,
   "metadata": {
    "scrolled": true
   },
   "outputs": [
    {
     "name": "stdout",
     "output_type": "stream",
     "text": [
      "Total number of pattern occurences = 369\n",
      "Automata building time => 864.7134304046631 milliseconds\n",
      "Searching time => 384.9446773529053 milliseconds\n"
     ]
    }
   ],
   "source": [
    "count = search_patterns(haystack_image_data,get_patterns_columns(pattern3_data),False)"
   ]
  },
  {
   "cell_type": "code",
   "execution_count": 30,
   "metadata": {
    "scrolled": true
   },
   "outputs": [
    {
     "name": "stdout",
     "output_type": "stream",
     "text": [
      "Total number of pattern occurences = 106\n",
      "Automata building time => 847.7692604064941 milliseconds\n",
      "Searching time => 372.9665279388428 milliseconds\n"
     ]
    }
   ],
   "source": [
    "count = search_patterns(haystack_image_data,get_patterns_columns(pattern4_data),False)"
   ]
  },
  {
   "cell_type": "code",
   "execution_count": 31,
   "metadata": {
    "scrolled": true
   },
   "outputs": [
    {
     "name": "stdout",
     "output_type": "stream",
     "text": [
      "Total number of pattern occurences = 57\n",
      "Automata building time => 866.680383682251 milliseconds\n",
      "Searching time => 382.01117515563965 milliseconds\n"
     ]
    }
   ],
   "source": [
    "count = search_patterns(haystack_image_data,get_patterns_columns(pattern5_data),False)"
   ]
  },
  {
   "cell_type": "code",
   "execution_count": 32,
   "metadata": {
    "scrolled": true
   },
   "outputs": [
    {
     "name": "stdout",
     "output_type": "stream",
     "text": [
      "Total number of pattern occurences = 397\n",
      "Automata building time => 877.6512145996094 milliseconds\n",
      "Searching time => 364.0270233154297 milliseconds\n"
     ]
    }
   ],
   "source": [
    "count = search_patterns(haystack_image_data,get_patterns_columns(pattern6_data),False)"
   ]
  },
  {
   "cell_type": "markdown",
   "metadata": {},
   "source": [
    "Podsumowanie:  \n",
    "  \n",
    "Litera e:  Ilość wystąpień w tekście (Notepad) = 583, Wartość zwrócona przez program = 583  \n",
    "  \n",
    "Litera c:  Ilość wystąpień w tekście (Notepad) = 213, Wartość zwrócona przez program = 213  \n",
    "  \n",
    "Litera o:  Ilość wystąpień w tekście (Notepad) = 369, Wartość zwrócona przez program = 369  \n",
    "  \n",
    "Litera u:  Ilość wystąpień w tekście (Notepad) = 106, Wartość zwrócona przez program = 106  \n",
    "  \n",
    "Litera x:  Ilość wystąpień w tekście (Notepad) = 57, Wartość zwrócona przez program = 57  \n",
    "  \n",
    "Litera a:  Ilość wystąpień w tekście (Notepad) = 397, Wartość zwrócona przez program = 397  \n",
    "  \n",
    "Wszystko zatem działa zgodnie z założeniami."
   ]
  },
  {
   "cell_type": "markdown",
   "metadata": {},
   "source": [
    "# 5. Znajdź wszystkie wystąpienia słowa \"p a t t e r n\" w haystack.png."
   ]
  },
  {
   "cell_type": "code",
   "execution_count": 33,
   "metadata": {
    "scrolled": false
   },
   "outputs": [
    {
     "data": {
      "image/png": "[encoded data removed]",
      "text/plain": [
       "<IPython.core.display.Image object>"
      ]
     },
     "execution_count": 33,
     "metadata": {},
     "output_type": "execute_result"
    }
   ],
   "source": [
    "pattern7 = haystack_image.crop((422,494,530,515))\n",
    "pattern7_data = get_data(422,494,530,515)\n",
    "Image(filename='pattern.png')"
   ]
  },
  {
   "cell_type": "code",
   "execution_count": 34,
   "metadata": {
    "scrolled": false
   },
   "outputs": [
    {
     "name": "stdout",
     "output_type": "stream",
     "text": [
      "Pattern found: (472,178) ... (472,285)\n",
      "               ...\n",
      "               (492,178) ... (492,285)\n",
      "Pattern found: (494,422) ... (494,529)\n",
      "               ...\n",
      "               (514,422) ... (514,529)\n",
      "Pattern found: (538,236) ... (538,343)\n",
      "               ...\n",
      "               (558,236) ... (558,343)\n",
      "Pattern found: (582,136) ... (582,243)\n",
      "               ...\n",
      "               (602,136) ... (602,243)\n",
      "Pattern found: (626,242) ... (626,349)\n",
      "               ...\n",
      "               (646,242) ... (646,349)\n",
      "Total number of pattern occurences = 5\n",
      "Automata building time => 886.6548538208008 milliseconds\n",
      "Searching time => 471.74644470214844 milliseconds\n"
     ]
    }
   ],
   "source": [
    "count = search_patterns(haystack_image_data,get_patterns_columns(pattern7_data))"
   ]
  },
  {
   "cell_type": "markdown",
   "metadata": {},
   "source": [
    "Również tutaj Notepad zwraca wartość identyczną z programem (5) co pokazuje jego poprawność."
   ]
  },
  {
   "cell_type": "markdown",
   "metadata": {},
   "source": [
    "# 6. Porównaj czas budowania automatu i czas wyszukiwania dla różnych rozmiarów wzorca."
   ]
  },
  {
   "cell_type": "code",
   "execution_count": 35,
   "metadata": {
    "scrolled": false
   },
   "outputs": [
    {
     "name": "stdout",
     "output_type": "stream",
     "text": [
      "84\n",
      "Total number of pattern occurences = 0\n",
      "Automata building time => 2.9916763305664062 milliseconds\n",
      "Searching time => 1.9948482513427734 milliseconds\n"
     ]
    }
   ],
   "source": [
    "print(len(haystack_text))\n",
    "pat1 = ['abc','bcd','dcd','123']\n",
    "count = search_patterns(haystack_text,pat1)"
   ]
  },
  {
   "cell_type": "markdown",
   "metadata": {},
   "source": [
    "Jak widać czas budowania automatu jest mały dla takiego małego wzorca. Czas wyszukiwania również jest bardzo krótki."
   ]
  },
  {
   "cell_type": "code",
   "execution_count": 36,
   "metadata": {
    "scrolled": false
   },
   "outputs": [
    {
     "name": "stdout",
     "output_type": "stream",
     "text": [
      "Total number of pattern occurences = 0\n",
      "Automata building time => 3.9887428283691406 milliseconds\n",
      "Searching time => 4.97889518737793 milliseconds\n"
     ]
    }
   ],
   "source": [
    "pat2 = []\n",
    "tmp = 'aaaaaaaaaaaaaaaaaaaaaaaaaaaaaaaaaaa'\n",
    "for i in range(100):\n",
    "    pat2.append(tmp)\n",
    "count = search_patterns(haystack_text,pat2)"
   ]
  },
  {
   "cell_type": "markdown",
   "metadata": {},
   "source": [
    "Czas budowania automatu dla większego wzorca jest nieco większy lecz wciąż mały. Czas wyszukiwania zwiększa się, ponieważ  \n",
    "wyszukiwany wzorzec jednowymiarowy jest dłuższy."
   ]
  },
  {
   "cell_type": "code",
   "execution_count": 37,
   "metadata": {
    "scrolled": false
   },
   "outputs": [
    {
     "name": "stdout",
     "output_type": "stream",
     "text": [
      "Pattern found: (0,0) ... (0,104)\n",
      "               ...\n",
      "               (83,0) ... (83,104)\n",
      "Total number of pattern occurences = 1\n",
      "Automata building time => 22.91131019592285 milliseconds\n",
      "Searching time => 3.9887428283691406 milliseconds\n"
     ]
    }
   ],
   "source": [
    "pat3 = []\n",
    "for j in range(len(haystack_text[0])):\n",
    "    column = ''\n",
    "    for i in range(len(haystack_text)):\n",
    "        column += haystack_text[i][j]\n",
    "    pat3.append(column)\n",
    "count = search_patterns(haystack_text,pat3)"
   ]
  },
  {
   "cell_type": "markdown",
   "metadata": {},
   "source": [
    "Czas budowania automatu dla wzorca, który jest całym tekstem jest zauważalnie dłuższy. Czas wyszukiwania nieco zwiększył się z tego samego powodu co powyżej."
   ]
  },
  {
   "cell_type": "code",
   "execution_count": 38,
   "metadata": {
    "scrolled": false
   },
   "outputs": [
    {
     "name": "stdout",
     "output_type": "stream",
     "text": [
      "Total number of pattern occurences = 0\n",
      "Automata building time => 24.933815002441406 milliseconds\n",
      "Searching time => 21.97718620300293 milliseconds\n"
     ]
    }
   ],
   "source": [
    "pat4 = []\n",
    "tmp = 'aaaaaaaaaaaaaaaaaaaaaaaaaaaaaaaaaaa'\n",
    "for i in range(1000):\n",
    "    pat4.append(tmp)\n",
    "count = search_patterns(haystack_text,pat4)"
   ]
  },
  {
   "cell_type": "markdown",
   "metadata": {},
   "source": [
    "Czas budowania automatu jest podobny co powyżej, lecz czas wyszukiwania jest dłuższy z powodu większej ilości kolumn."
   ]
  },
  {
   "cell_type": "code",
   "execution_count": 39,
   "metadata": {
    "scrolled": false
   },
   "outputs": [
    {
     "name": "stdout",
     "output_type": "stream",
     "text": [
      "Total number of pattern occurences = 0\n",
      "Automata building time => 1951.8132209777832 milliseconds\n",
      "Searching time => 1833.0628871917725 milliseconds\n"
     ]
    }
   ],
   "source": [
    "pat5 = []\n",
    "tmp = 'aaaaaaaaaaaaaaaaaaaaaaaaaaaaaaaaaaa'\n",
    "for i in range(100000):\n",
    "    pat5.append(tmp)\n",
    "count = search_patterns(haystack_text,pat5)"
   ]
  },
  {
   "cell_type": "markdown",
   "metadata": {},
   "source": [
    "Czas budowania automatu i wyszukiwania jest dłuższy niemal 100 razy (100 razy więcej kolumn) -> pokazuje to liniowość rozwiązania."
   ]
  },
  {
   "cell_type": "markdown",
   "metadata": {},
   "source": [
    "# 7. Podziel plik na 2, 4 i 8 fragmentów (w poziomie) i porównaj czas przeszukiwania."
   ]
  },
  {
   "cell_type": "markdown",
   "metadata": {},
   "source": [
    "W celu wykonania tego doświadczenia zmodyfikuję lekko funkcję search_patterns żeby \"symulowała\" wielowątkowość."
   ]
  },
  {
   "cell_type": "code",
   "execution_count": 40,
   "metadata": {
    "scrolled": false
   },
   "outputs": [],
   "source": [
    "from math import ceil\n",
    "# funkcja wyszukująca wzorców dwuwymiarowych, patterns to lista kolejnych kolumn wzorca 2d\n",
    "def search_patterns_threads(text,patterns,threads):\n",
    "    time1 = time()\n",
    "    automata = build_automata(patterns)\n",
    "    \n",
    "    # numery kolejnych stanów prawidłowych\n",
    "    patterns_pattern = []\n",
    "    p_list = []\n",
    "    current = 0\n",
    "    for pattern in patterns:\n",
    "        current += len(pattern)\n",
    "        num = current\n",
    "        for p in p_list:\n",
    "            if p[0] == pattern:\n",
    "                num = p[1]\n",
    "                \n",
    "        patterns_pattern.append(num)\n",
    "        if num == current:\n",
    "            p_list.append((pattern,num))\n",
    "        \n",
    "    states = [[0 for _ in range(len(text[0]))] for _ in range(len(text))]\n",
    "        \n",
    "    # wypełniam macierz stanów dla kolejnych kolumn\n",
    "    for j in range(len(text[0])):\n",
    "        # kolumna j\n",
    "        node = automata\n",
    "        for i in range(len(text)):\n",
    "            while node != None and not text[i][j] in node.goto:\n",
    "                node = node.fail\n",
    "            if node == None:\n",
    "                node = automata\n",
    "                continue\n",
    "            node = node.goto[text[i][j]]\n",
    "            states[i][j] = node.index\n",
    "    \n",
    "    time2 = time()\n",
    "    # dla każdego wiersza macierzy stanów poszukuje \"patterns_pattern\"\n",
    "    i = -1 * len(patterns[0]) + 1\n",
    "    count = 0\n",
    "    max_time = 0\n",
    "    for t in range(threads):\n",
    "        time3 = time()\n",
    "        for row in states[t*ceil(len(states)/threads):(t+1)*ceil(len(states)/threads)]:\n",
    "            lenS, S = KMPSearch(row,patterns_pattern)\n",
    "            count += lenS\n",
    "            for j in S:\n",
    "                print(\"Pattern found: (\" + str(i) + \",\" + str(j) + \") ... (\" + str(i) + \",\" + str(j+len(patterns)-1) + \")\")\n",
    "                print(\"               ...\")\n",
    "                print(\"               (\" + str(i+len(patterns[0])-1) + \",\" + str(j) + \") ... (\" + \\\n",
    "                      str(i+len(patterns[0])-1) + \",\" + str(j+len(patterns)-1) + \")\")\n",
    "            i += 1\n",
    "        time4 = time()\n",
    "        if (time4-time3 > max_time):\n",
    "            max_time = time4-time3\n",
    "            \n",
    "    print(\"Total number of pattern occurences = \" + str(count))    \n",
    "    print(\"Automata building time => \" + str(1000 * (time2-time1)) + \" milliseconds\")\n",
    "    print(\"Searching time (longest thread time) => \" + str(1000 * max_time) + \" milliseconds\")\n",
    "    return count"
   ]
  },
  {
   "cell_type": "code",
   "execution_count": 41,
   "metadata": {
    "scrolled": false
   },
   "outputs": [
    {
     "name": "stdout",
     "output_type": "stream",
     "text": [
      "Total number of pattern occurences = 0\n",
      "Automata building time => 1920.8886623382568 milliseconds\n",
      "Searching time (longest thread time) => 973.3965396881104 milliseconds\n"
     ]
    }
   ],
   "source": [
    "count = search_patterns_threads(haystack_text,pat5,2)"
   ]
  },
  {
   "cell_type": "code",
   "execution_count": 42,
   "metadata": {
    "scrolled": false
   },
   "outputs": [
    {
     "name": "stdout",
     "output_type": "stream",
     "text": [
      "Total number of pattern occurences = 0\n",
      "Automata building time => 1987.6835346221924 milliseconds\n",
      "Searching time (longest thread time) => 507.64942169189453 milliseconds\n"
     ]
    }
   ],
   "source": [
    "count = search_patterns_threads(haystack_text,pat5,4)"
   ]
  },
  {
   "cell_type": "code",
   "execution_count": 43,
   "metadata": {
    "scrolled": false
   },
   "outputs": [
    {
     "name": "stdout",
     "output_type": "stream",
     "text": [
      "Total number of pattern occurences = 0\n",
      "Automata building time => 1936.8455410003662 milliseconds\n",
      "Searching time (longest thread time) => 246.31500244140625 milliseconds\n"
     ]
    }
   ],
   "source": [
    "count = search_patterns_threads(haystack_text,pat5,8)"
   ]
  },
  {
   "cell_type": "markdown",
   "metadata": {},
   "source": [
    "Jak widać wszystko działa zgodnie z założeniem -> czas wyszukiwania zmniejsza się około 2 razy wraz z dwukrotnym zwiększeniem ilości wątków."
   ]
  },
  {
   "cell_type": "markdown",
   "metadata": {},
   "source": [
    "# Wniosek"
   ]
  },
  {
   "cell_type": "markdown",
   "metadata": {},
   "source": [
    "Zadanie pozwoliło zapoznać się z mechanizmem wyszukiwania wzorców dwuwymiarowym, problemem, który jest mocno rozchwytywany i wykorzystywany w wielu dziedzinach. Zastosowany algorytm można wykorzystać zarówno do plików tekstowych jak i graficznych (każdego pliku, który możemy w jakiś sposób zrzutować np. na macierz). Ostatnie polecenie pokazało, że łatwo zrównoleglić obliczenia (tutaj wyszukiwanie wzorca jednowymiarowego). Można również zrównoleglić wypełnianie macierzy stanów, ponieważ wyniki dla każdej kolumny są od siebie niezależne."
   ]
  }
 ],
 "metadata": {
  "kernelspec": {
   "display_name": "Python 3",
   "language": "python",
   "name": "python3"
  },
  "language_info": {
   "codemirror_mode": {
    "name": "ipython",
    "version": 3
   },
   "file_extension": ".py",
   "mimetype": "text/x-python",
   "name": "python",
   "nbconvert_exporter": "python",
   "pygments_lexer": "ipython3",
   "version": "3.7.6"
  }
 },
 "nbformat": 4,
 "nbformat_minor": 4
}
