{
 "cells": [
  {
   "cell_type": "markdown",
   "metadata": {},
   "source": [
    "# Algorytmy tekstowe 2019/2020"
   ]
  },
  {
   "cell_type": "markdown",
   "metadata": {},
   "source": [
    "# Laboratorium 3"
   ]
  },
  {
   "cell_type": "markdown",
   "metadata": {},
   "source": [
    "# Autor - Łukasz Jezapkowicz"
   ]
  },
  {
   "cell_type": "markdown",
   "metadata": {},
   "source": [
    "# 1. Przyjęte dane"
   ]
  },
  {
   "cell_type": "code",
   "execution_count": 3,
   "metadata": {},
   "outputs": [],
   "source": [
    "def open_file(file):\n",
    "    file = open(file,mode='r', encoding=\"utf-8\")\n",
    "    data = file.read()\n",
    "    file.close()\n",
    "    return data"
   ]
  },
  {
   "cell_type": "code",
   "execution_count": 4,
   "metadata": {},
   "outputs": [],
   "source": [
    "data = []\n",
    "data.append(open_file(\"test1.txt\")) # 1kB -> 1006 B\n",
    "data.append(open_file(\"test2.txt\")) # 10kB -> 10080 B\n",
    "data.append(open_file(\"test3.txt\")) # 100kB -> 101 539 B\n",
    "data.append(open_file(\"test4.txt\")) # 1MB -> 1024kB -> 1 047 960 B"
   ]
  },
  {
   "cell_type": "markdown",
   "metadata": {},
   "source": [
    "# 2. Statyczny algorytm Huffmana"
   ]
  },
  {
   "cell_type": "markdown",
   "metadata": {},
   "source": [
    "Sposób przechowywania skompresowanego kodu Huffmana:  \n",
    "Dany skompresowany tekst np. 101001 zapisuję do pliku binarnego."
   ]
  },
  {
   "cell_type": "code",
   "execution_count": 5,
   "metadata": {},
   "outputs": [],
   "source": [
    "from heapq import heappush,heappop\n",
    "from bitarray import bitarray\n",
    "from time import time\n",
    "import os\n",
    "from math import ceil"
   ]
  },
  {
   "cell_type": "code",
   "execution_count": 6,
   "metadata": {},
   "outputs": [],
   "source": [
    "# Klasa symbolizująca węzeł w statycznym drzewie Huffmana\n",
    "class StaticNode:\n",
    "    def __init__(self,isLeaf=None,symbol=None,count=None,prob=None):\n",
    "        self.isLeaf = isLeaf\n",
    "        self.symbol = symbol\n",
    "        self.count = count\n",
    "        self.left = None\n",
    "        self.right = None\n",
    "        self.prob = prob\n",
    "    \n",
    "    def __lt__(self,other):\n",
    "        if self.prob <= other.prob:\n",
    "            return True\n",
    "        else:\n",
    "            return False\n",
    "    \n",
    "    def __eq__(self,other):\n",
    "        return self.prob == other.prob"
   ]
  },
  {
   "cell_type": "code",
   "execution_count": 7,
   "metadata": {},
   "outputs": [],
   "source": [
    "# Klasa symbolizująca statyczne drzewo Huffmana, lewy syn -> 0, prawy syn -> 1\n",
    "class StaticHuffman:\n",
    "    def __init__(self,text):\n",
    "        self.root = None\n",
    "        self.text = text\n",
    "        self.code_length = None\n",
    "        self.coded_text = None\n",
    "        self.frequencies = []\n",
    "        self.coded = dict()\n",
    "        \n",
    "    # metoda obliczająca częstość występowania oraz sortująca symbole względem tej częstości\n",
    "    def calculate_frequencies(self):\n",
    "        asci = [0]*256\n",
    "        for c in self.text:\n",
    "            asci[ord(c)] += 1\n",
    "            \n",
    "        for i in range(len(asci)):\n",
    "            if asci[i] > 0:\n",
    "                heappush(self.frequencies,(asci[i],StaticNode(True,chr(i),asci[i],asci[i]/len(self.text))))\n",
    "        \n",
    "    def code_letter(self,node,code):\n",
    "        if node is None:\n",
    "            return\n",
    "        \n",
    "        if node.isLeaf:\n",
    "            self.coded[node.symbol]=code\n",
    "            return\n",
    "        \n",
    "        self.code_letter(node.left,code+'0')\n",
    "        self.code_letter(node.right,code+'1')\n",
    "    \n",
    "    # metoda kodująca znaki na odpowiednie kody binarne\n",
    "    def code_letters(self):\n",
    "        self.code_letter(self.root.left,'0')\n",
    "        self.code_letter(self.root.right,'1')\n",
    "        \n",
    "    # metoda kompresująca tekst do kodu binarnego\n",
    "    def compress_text(self,text):\n",
    "        result = \"\"\n",
    "        for c in text:\n",
    "            result += self.coded[c]\n",
    "        return result\n",
    "    \n",
    "    # metoda dekompresująca tekst z kodu binarnego\n",
    "    def decompress_text(self,text):\n",
    "        result = \"\"\n",
    "        tmp = self.root\n",
    "        for c in text:\n",
    "            if tmp.isLeaf:\n",
    "                result += tmp.symbol\n",
    "                tmp = self.root\n",
    "            if c == '0':\n",
    "                tmp = tmp.left\n",
    "            else:\n",
    "                tmp = tmp.right\n",
    "        \n",
    "        # nie wolno zapomnieć o ostatnim słowie \n",
    "        return result + str(tmp.symbol)\n",
    "            \n",
    "    # metoda budująca drzewo Huffmana, zwraca zakodowany tekst\n",
    "    def build_tree(self):\n",
    "        self.calculate_frequencies()\n",
    "        \n",
    "        # główny krok algorytmu budowania drzewa\n",
    "        while len(self.frequencies) != 1:\n",
    "            min1 = heappop(self.frequencies)\n",
    "            min2 = heappop(self.frequencies)\n",
    "            \n",
    "            new_node = StaticNode(count=min1[0]+min2[0],prob=min1[1].prob+min2[1].prob)\n",
    "            new_node.left = min1[1]\n",
    "            new_node.right = min2[1]\n",
    "            \n",
    "            heappush(self.frequencies,(min1[0]+min2[0],new_node))\n",
    "        \n",
    "        rt = heappop(self.frequencies)\n",
    "        self.root = rt[1]\n",
    "        self.code_letters()\n",
    "        self.coded_text = self.compress_text(self.text)\n",
    "        self.code_length = len(self.coded_text)\n",
    "        return self.coded_text\n",
    "    \n",
    "    # metoda zwracająca współczynnik kompresji \n",
    "    def compress_coefficient(self):\n",
    "        return str(100*(1 - len(self.coded_text)/(8*len(self.text)))) + \"%\"\n",
    "    \n",
    "    # metoda zapisująca skompresowany tekst do pliku\n",
    "    def write_to_file(self,name):\n",
    "        bits = bitarray(self.coded_text)\n",
    "        with open (name,'wb') as f:\n",
    "            bits.tofile(f)\n",
    "    \n",
    "    # metoda odczytująca tekst ze skompresowanego pliku\n",
    "    def read_from_file(self,name):\n",
    "        a = bitarray()\n",
    "        with open(name,'rb') as f:\n",
    "            a.fromfile(f)\n",
    "        a = a[:self.code_length]\n",
    "        txt = \"\"\n",
    "        for bit in a:\n",
    "            if bit:\n",
    "                txt += \"1\"\n",
    "            else:\n",
    "                txt += \"0\"\n",
    "        return self.decompress_text(txt)\n",
    "    \n",
    "    # metoda wypisujaca węzeł drzewa Huffmana\n",
    "    def print_recur(self,indent,node,sym):\n",
    "        if node is None:\n",
    "            return\n",
    "        msg = \"\"\n",
    "        for _ in range(indent):\n",
    "            msg += \" \"\n",
    "        msg += str(sym) + \" -> #\" + str(node.count)\n",
    "        if node.symbol is not None:\n",
    "            msg += \" \" + str(node.symbol)\n",
    "        print(msg)\n",
    "        self.print_recur(indent+1,node.left,0)\n",
    "        self.print_recur(indent+1,node.right,1)\n",
    "        \n",
    "    \n",
    "    # metoda wypisująca drzewo Huffmana\n",
    "    def print_tree(self):\n",
    "        print(\"0 -> left | 1 -> right\")\n",
    "        print(\"#\" + str(self.root.count))\n",
    "        self.print_recur(1,self.root.left,0)\n",
    "        self.print_recur(1,self.root.right,1)"
   ]
  },
  {
   "cell_type": "markdown",
   "metadata": {},
   "source": [
    "# Przykład działania budowania drzewa"
   ]
  },
  {
   "cell_type": "code",
   "execution_count": 8,
   "metadata": {},
   "outputs": [
    {
     "name": "stdout",
     "output_type": "stream",
     "text": [
      "0 -> left | 1 -> right\n",
      "#11\n",
      " 0 -> #5 a\n",
      " 1 -> #6\n",
      "  0 -> #2\n",
      "   0 -> #1 c\n",
      "   1 -> #1 d\n",
      "  1 -> #4\n",
      "   0 -> #2 b\n",
      "   1 -> #2 r\n",
      "\n",
      "Coded letters: \n",
      "{'a': '0', 'c': '100', 'd': '101', 'b': '110', 'r': '111'}\n"
     ]
    }
   ],
   "source": [
    "h = StaticHuffman(\"aaaaabbcdrr\") # wzięty z wykładu\n",
    "compressed = h.build_tree()\n",
    "h.print_tree()\n",
    "print(\"\\nCoded letters: \")\n",
    "print(h.coded)"
   ]
  },
  {
   "cell_type": "markdown",
   "metadata": {},
   "source": [
    "# Kompresja tekstu"
   ]
  },
  {
   "cell_type": "code",
   "execution_count": 9,
   "metadata": {},
   "outputs": [
    {
     "name": "stdout",
     "output_type": "stream",
     "text": [
      "00000110110100101111111\n"
     ]
    }
   ],
   "source": [
    "print(h.compress_text(\"aaaaabbcdrr\"))"
   ]
  },
  {
   "cell_type": "markdown",
   "metadata": {},
   "source": [
    "# Dekompresja tekstu"
   ]
  },
  {
   "cell_type": "code",
   "execution_count": 10,
   "metadata": {},
   "outputs": [
    {
     "name": "stdout",
     "output_type": "stream",
     "text": [
      "aaaaabbcdrr\n"
     ]
    }
   ],
   "source": [
    "print(h.decompress_text(\"00000110110100101111111\"))"
   ]
  },
  {
   "cell_type": "markdown",
   "metadata": {},
   "source": [
    "# Współczynnik kompresji"
   ]
  },
  {
   "cell_type": "code",
   "execution_count": 11,
   "metadata": {},
   "outputs": [
    {
     "name": "stdout",
     "output_type": "stream",
     "text": [
      "73.86363636363636%\n"
     ]
    }
   ],
   "source": [
    "print(h.compress_coefficient())  # tekst zajmuje 11 * 8 = 88 bitów a kod binarny 23 bity -> (88-23)/88 = 73.86 %"
   ]
  },
  {
   "cell_type": "markdown",
   "metadata": {},
   "source": [
    "# Testy dla przygotowanych danych (zapisywanie oraz odczytywanie z pliku)"
   ]
  },
  {
   "cell_type": "code",
   "execution_count": 12,
   "metadata": {},
   "outputs": [],
   "source": [
    "# metoda testująca zestaw danych\n",
    "def test_data():\n",
    "    i = 0\n",
    "    for text in data:\n",
    "        print(\"Wielkość pliku w bajtach: \" + str(len(text)))\n",
    "        tree = StaticHuffman(text)\n",
    "        time1 = time()\n",
    "        compressed = tree.build_tree()\n",
    "        compress_time = time()-time1\n",
    "        print(\"Czas kompresji: \" + str(compress_time) + \" sekund\")\n",
    "        time2 = time()\n",
    "        decompressed = tree.decompress_text(tree.coded_text)\n",
    "        decompress_time = time()-time2\n",
    "        print(\"Czas dekompresji: \" + str(decompress_time) + \" sekund\")\n",
    "        \n",
    "        filename = \"test\" + str(i+1) + \"_compressed\"\n",
    "        i += 1\n",
    "        tree.write_to_file(filename)\n",
    "        decompressed_from_file = tree.read_from_file(filename)\n",
    "        print(\"Czy skompresowany tekst oraz skompresowany tekst z pliku są sobie równe? \", end = '')\n",
    "        if decompressed == decompressed_from_file:\n",
    "            print(\"TAK\")\n",
    "        else:\n",
    "            print(\"NIE\")\n",
    "            \n",
    "        print(\"Czy tekst po zdekompresowaniu jest taki sam jak na początku? \", end = '')\n",
    "        if decompressed == text:\n",
    "            print(\"TAK\")\n",
    "        else:\n",
    "            print(\"NIE\")\n",
    "            \n",
    "        print(\"Długość oryginalnego tekstu: \" + str(len(text)))\n",
    "        print(\"Długość skompresowanego tekstu \" + str(ceil(len(compressed)/8)))\n",
    "        print(\"Teorytyczny współczynnik kompresji: \" + str(round(100*(len(text)-ceil(len(compressed)/8))/len(text),4)) + \"%\")\n",
    "        \n",
    "        print(\"Wielkość oryginalnego pliku (w bajtach): \" + str(os.path.getsize(filename[:5]+\".txt\")))\n",
    "        print(\"Wielkość skompresowanego pliku (w bajtach): \" + str(os.path.getsize(filename)))\n",
    "        print(\"Rzeczywisty współczynnik kompresji: \" + str(round(100*(os.path.getsize(filename[:5]+\".txt\")\n",
    "                                                -os.path.getsize(filename))/os.path.getsize(filename[:5]+\".txt\"),4)) + \"%\\n\")"
   ]
  },
  {
   "cell_type": "code",
   "execution_count": 13,
   "metadata": {},
   "outputs": [
    {
     "name": "stdout",
     "output_type": "stream",
     "text": [
      "Wielkość pliku w bajtach: 1006\n",
      "Czas kompresji: 0.0 sekund\n",
      "Czas dekompresji: 0.001024007797241211 sekund\n",
      "Czy skompresowany tekst oraz skompresowany tekst z pliku są sobie równe? TAK\n",
      "Czy tekst po zdekompresowaniu jest taki sam jak na początku? TAK\n",
      "Długość oryginalnego tekstu: 1006\n",
      "Długość skompresowanego tekstu 457\n",
      "Teorytyczny współczynnik kompresji: 54.5726%\n",
      "Wielkość oryginalnego pliku (w bajtach): 1006\n",
      "Wielkość skompresowanego pliku (w bajtach): 457\n",
      "Rzeczywisty współczynnik kompresji: 54.5726%\n",
      "\n",
      "Wielkość pliku w bajtach: 10071\n",
      "Czas kompresji: 0.004987001419067383 sekund\n",
      "Czas dekompresji: 0.00698089599609375 sekund\n",
      "Czy skompresowany tekst oraz skompresowany tekst z pliku są sobie równe? TAK\n",
      "Czy tekst po zdekompresowaniu jest taki sam jak na początku? TAK\n",
      "Długość oryginalnego tekstu: 10071\n",
      "Długość skompresowanego tekstu 5731\n",
      "Teorytyczny współczynnik kompresji: 43.094%\n",
      "Wielkość oryginalnego pliku (w bajtach): 10080\n",
      "Wielkość skompresowanego pliku (w bajtach): 5731\n",
      "Rzeczywisty współczynnik kompresji: 43.1448%\n",
      "\n",
      "Wielkość pliku w bajtach: 98762\n",
      "Czas kompresji: 0.031026363372802734 sekund\n",
      "Czas dekompresji: 0.05297207832336426 sekund\n",
      "Czy skompresowany tekst oraz skompresowany tekst z pliku są sobie równe? TAK\n",
      "Czy tekst po zdekompresowaniu jest taki sam jak na początku? TAK\n",
      "Długość oryginalnego tekstu: 98762\n",
      "Długość skompresowanego tekstu 54564\n",
      "Teorytyczny współczynnik kompresji: 44.752%\n",
      "Wielkość oryginalnego pliku (w bajtach): 101539\n",
      "Wielkość skompresowanego pliku (w bajtach): 54564\n",
      "Rzeczywisty współczynnik kompresji: 46.263%\n",
      "\n",
      "Wielkość pliku w bajtach: 1018808\n",
      "Czas kompresji: 1.3945837020874023 sekund\n",
      "Czas dekompresji: 0.6861002445220947 sekund\n",
      "Czy skompresowany tekst oraz skompresowany tekst z pliku są sobie równe? TAK\n",
      "Czy tekst po zdekompresowaniu jest taki sam jak na początku? TAK\n",
      "Długość oryginalnego tekstu: 1018808\n",
      "Długość skompresowanego tekstu 568644\n",
      "Teorytyczny współczynnik kompresji: 44.1854%\n",
      "Wielkość oryginalnego pliku (w bajtach): 1047960\n",
      "Wielkość skompresowanego pliku (w bajtach): 568644\n",
      "Rzeczywisty współczynnik kompresji: 45.738%\n",
      "\n"
     ]
    }
   ],
   "source": [
    "test_data()"
   ]
  },
  {
   "cell_type": "markdown",
   "metadata": {},
   "source": [
    "# 3. Dynamiczny algorytm Huffmanna"
   ]
  },
  {
   "cell_type": "markdown",
   "metadata": {},
   "source": [
    "Sposób kodowania:  \n",
    "jeżeli znak jest już w drzewie -> dodaje jego kod  \n",
    "jeżeli nie znajduje -> dodaje kod znaku NYT ('#') oraz reprezentacje binarną symbolu (pełne 8 bitów)  \n",
    "Pełne 8 bitów pozwala mi łatwo odkodować z pliku kolejne symbole (alternatywa - dodawanie 3 bitów\n",
    "oznaczających długość kodu symbolu)  \n",
    "  \n",
    "Do pliku binarnego zapisuje skompresowany kod np.   011000010011000100001110010010001100011011000110010001101100 (abracadabra)"
   ]
  },
  {
   "cell_type": "code",
   "execution_count": 20,
   "metadata": {},
   "outputs": [],
   "source": [
    "# Klasa symbolizująca węzeł w dynamicznym drzewie Huffmana\n",
    "class DynamicNode:\n",
    "    def __init__(self, parent=None, left=None, right=None, weight=0, symbol=None):\n",
    "        self.parent = parent\n",
    "        self.symbol = symbol\n",
    "        self.left = left\n",
    "        self.right = right\n",
    "        self.weight = weight"
   ]
  },
  {
   "cell_type": "code",
   "execution_count": 105,
   "metadata": {},
   "outputs": [],
   "source": [
    "# Klasa symbolizująca dynamiczne drzewo Huffmana\n",
    "class DynamicHuffman:\n",
    "    def __init__(self,print_time = False):\n",
    "        self.nyt = DynamicNode(symbol='#')\n",
    "        self.root = self.nyt\n",
    "        self.used = [None]*256\n",
    "        self.nodes = [self.nyt]\n",
    "        self.print_time = print_time\n",
    "        self.time = 0\n",
    "    \n",
    "    # metoda zwracająca kod dla znaku\n",
    "    def get_symbol_code(self,c,c_node,c_code = ''):\n",
    "        # liść\n",
    "        if c_node.left is None and c_node.right is None:\n",
    "            return c_code if c_node.symbol == c else ''\n",
    "        \n",
    "        else:\n",
    "            code = ''\n",
    "            if c_node.left is not None:\n",
    "                code = self.get_symbol_code(c,c_node.left,c_code + '0')\n",
    "            if not code and c_node.right is not None:\n",
    "                code = self.get_symbol_code(c,c_node.right,c_code + '1')\n",
    "            return code\n",
    "    \n",
    "    # metoda naprawiająca drzewo (swapująca węzły)\n",
    "    def update(self,node1,node2):\n",
    "        # biorę odpowiednie indeksy i zamieniam węzły miejscami w liście\n",
    "        index1, index2 = self.nodes.index(node1), self.nodes.index(node2)\n",
    "        self.nodes[index1], self.nodes[index2] = self.nodes[index2], self.nodes[index1]\n",
    "\n",
    "        # naprawiam odpowiednie łączenia\n",
    "        tmp = node1.parent\n",
    "        node1.parent = node2.parent\n",
    "        node2.parent = tmp\n",
    "        \n",
    "        if node1.parent.left is node2:\n",
    "            node1.parent.left = node1\n",
    "        else:\n",
    "            node1.parent.right = node1\n",
    "        \n",
    "        if node2.parent.left is node1:\n",
    "            node2.parent.left = node2\n",
    "        else:\n",
    "            node2.parent.right = node2\n",
    "    \n",
    "    # metoda znajdująca najdalszy węzeł w liście o danej wadze\n",
    "    def find_furthest(self,weight):\n",
    "        for n in reversed(self.nodes):\n",
    "            if n.weight == weight:\n",
    "                return n\n",
    "    \n",
    "    # metoda wstawiająca kolejny znak do drzewa Huffmana\n",
    "    def insert(self,c):\n",
    "        # biorę odpowiedni węzeł\n",
    "        c_node = self.used[ord(c)]\n",
    "        \n",
    "        # jeśli nie istnieje to go tworzę\n",
    "        if c_node is None:\n",
    "            # tworze odpowiednie struktury\n",
    "            new_node = DynamicNode(weight = 1, symbol = c)\n",
    "            new_internal = DynamicNode(left = self.nyt,right = new_node, parent = self.nyt.parent,\n",
    "                                weight = 1,symbol='')\n",
    "            new_node.parent = new_internal\n",
    "            self.nyt.parent = new_internal\n",
    "            \n",
    "            # podpinam nowy węzeł zewnętrzny do jego ojca albo ustawiam jako root\n",
    "            if new_internal.parent is not None:\n",
    "                new_internal.parent.left = new_internal\n",
    "            else:\n",
    "                self.root = new_internal\n",
    "\n",
    "            # dodaje nowe węzły na początek listy węzłów\n",
    "            self.nodes.insert(0, new_internal)\n",
    "            self.nodes.insert(0, new_node)\n",
    "            self.used[ord(c)] = new_node\n",
    "            # jako odpowiedni węzeł biorę ojca ojca nowo wstawionego węzła - dopiero w nim\n",
    "            # mogło się coś zmienić\n",
    "            c_node = new_internal.parent\n",
    "        \n",
    "        # aktualizuję wagi i poprawiam drzewo w razie potrzeby\n",
    "        while c_node is not None:            \n",
    "            # znajduję węzeł o tej samej wadze, który jest najdalej na liście\n",
    "            furthest = self.find_furthest(c_node.weight)\n",
    "            \n",
    "            # jeżeli nasz węzeł nie jest najdalszym, lub nie jest z nim \n",
    "            # połączony relacją ojciec-syn naprawiamy drzewo\n",
    "            if (c_node is not furthest and \n",
    "                furthest is not c_node.parent):\n",
    "                self.update(c_node, furthest)\n",
    "            \n",
    "            c_node.weight += 1\n",
    "            c_node = c_node.parent\n",
    "    \n",
    "    # metoda budująca dynamiczne drzewo Huffmana\n",
    "    def build_tree(self,text):\n",
    "        coded = ''\n",
    "        \n",
    "        for c in text:\n",
    "            # dodajemy aktualny kod znaku\n",
    "            time1 = time()\n",
    "            if self.used[ord(c)] is not None:\n",
    "                tmp1 = self.get_symbol_code(c, self.root)\n",
    "                coded += tmp1\n",
    "            else:\n",
    "                tmp2 = self.get_symbol_code('#',self.root)\n",
    "                coded += tmp2\n",
    "                # dodaje binarną reprezentację znaku i opcjonalnie wypełniam 0 do długości 8 (bajt)\n",
    "                # wypełnianie oczywiście od najbardziej znaczących bitów\n",
    "                coded += bin(ord(c))[2:].zfill(8)\n",
    "            self.time += time()-time1\n",
    "                \n",
    "            self.insert(c)\n",
    "        \n",
    "        self.coded = coded\n",
    "        self.code_length = len(coded)\n",
    "        if self.print_time:\n",
    "            print(\"Czas szukania kodów symbolów = \" + str(self.time) + \" sekund\")\n",
    "        \n",
    "        return coded\n",
    "    \n",
    "    # metoda odkodowująca zakodowany tekst\n",
    "    def decode_text(self, text):\n",
    "        uncoded = ''\n",
    "        \n",
    "        # odkodowuję pierwszy znak\n",
    "        c_symbol = chr(int(text[:8],2))\n",
    "        uncoded += c_symbol\n",
    "        self.insert(c_symbol)\n",
    "        c_node = self.root\n",
    "        \n",
    "        i = 8\n",
    "        # odkodowuję resztę znaków\n",
    "        while i < len(text):\n",
    "            c_node = c_node.left if text[i] == '0' else c_node.right\n",
    "            c_symbol = c_node.symbol\n",
    "            \n",
    "            # jeżeli znaleźliśmy symbol\n",
    "            if c_symbol:\n",
    "                if c_symbol == '#':\n",
    "                    c_symbol = chr(int(text[i+1:i+9],2))\n",
    "                    i += 8\n",
    "                \n",
    "                uncoded += c_symbol\n",
    "                self.insert(c_symbol)\n",
    "                c_node = self.root\n",
    "            \n",
    "            i += 1\n",
    "        \n",
    "        return uncoded\n",
    "    \n",
    "    # metoda zapisująca skompresowany tekst do pliku\n",
    "    def write_to_file(self,name,text):\n",
    "        coded = self.build_tree(text)\n",
    "        bits = bitarray(coded)\n",
    "        with open (name,'wb') as f:\n",
    "            bits.tofile(f)\n",
    "        return len(coded)\n",
    "            \n",
    "    # metoda odczytująca tekst ze skompresowanego pliku\n",
    "    def read_from_file(self,name,length):\n",
    "        a = bitarray()\n",
    "        with open(name,'rb') as f:\n",
    "            a.fromfile(f)\n",
    "        a = a[:length]\n",
    "        txt = \"\"\n",
    "        for bit in a:\n",
    "            if bit:\n",
    "                txt += \"1\"\n",
    "            else:\n",
    "                txt += \"0\"\n",
    "        return self.decode_text(txt)"
   ]
  },
  {
   "cell_type": "markdown",
   "metadata": {},
   "source": [
    "# Kompresja tekstu"
   ]
  },
  {
   "cell_type": "code",
   "execution_count": 106,
   "metadata": {},
   "outputs": [
    {
     "name": "stdout",
     "output_type": "stream",
     "text": [
      "011000010011000100001110010010001100011011000110010001101100\n"
     ]
    }
   ],
   "source": [
    "print(DynamicHuffman().build_tree(\"abracadabra\"))"
   ]
  },
  {
   "cell_type": "markdown",
   "metadata": {},
   "source": [
    "# Dekompresja tekstu"
   ]
  },
  {
   "cell_type": "code",
   "execution_count": 107,
   "metadata": {},
   "outputs": [
    {
     "name": "stdout",
     "output_type": "stream",
     "text": [
      "abracadabra\n"
     ]
    }
   ],
   "source": [
    "print(DynamicHuffman().decode_text(\"011000010011000100001110010010001100011011000110010001101100\"))"
   ]
  },
  {
   "cell_type": "markdown",
   "metadata": {},
   "source": [
    "# Współczynnik kompresji"
   ]
  },
  {
   "cell_type": "code",
   "execution_count": 108,
   "metadata": {},
   "outputs": [
    {
     "name": "stdout",
     "output_type": "stream",
     "text": [
      "31.818181818181817%\n",
      "Jak widać, o wiele gorzej w przypadku tego krótkiego słowa \n"
     ]
    }
   ],
   "source": [
    "print(str(100*(len(\"abracadabra\")*8-len(DynamicHuffman().build_tree(\"abracadabra\")))/\n",
    "      (8*len(\"abracadabra\"))) + '%')\n",
    "print(\"Jak widać, o wiele gorzej w przypadku tego krótkiego słowa \")"
   ]
  },
  {
   "cell_type": "markdown",
   "metadata": {},
   "source": [
    "# Testy dla przygotowanych danych (zapisywanie oraz odczytywanie z pliku)"
   ]
  },
  {
   "cell_type": "code",
   "execution_count": 109,
   "metadata": {},
   "outputs": [],
   "source": [
    "# metoda testująca zestaw danych\n",
    "def test_data_2():\n",
    "    i = 0\n",
    "    for text in data:\n",
    "        print(\"Wielkość pliku w bajtach: \" + str(len(text)))\n",
    "        time1 = time()\n",
    "        compressed = DynamicHuffman(True).build_tree(text)\n",
    "        compress_time = time()-time1\n",
    "        print(\"Czas kompresji: \" + str(compress_time) + \" sekund\")\n",
    "        time2 = time()\n",
    "        decompressed = DynamicHuffman().decode_text(compressed)\n",
    "        decompress_time = time()-time2\n",
    "        print(\"Czas dekompresji: \" + str(decompress_time) + \" sekund\")\n",
    "        \n",
    "        filename = \"test\" + str(i+1) + \"_dynamic_compressed\"\n",
    "        i += 1\n",
    "        length = DynamicHuffman().write_to_file(filename,text)\n",
    "        decompressed_from_file = DynamicHuffman().read_from_file(filename,length)\n",
    "        print(\"Czy skompresowany tekst oraz skompresowany tekst z pliku są sobie równe? \", end = '')\n",
    "        if decompressed == decompressed_from_file:\n",
    "            print(\"TAK\")\n",
    "        else:\n",
    "            print(\"NIE\")\n",
    "                    \n",
    "        print(\"Czy tekst po zdekompresowaniu jest taki sam jak na początku? \", end = '')\n",
    "        if decompressed == text:\n",
    "            print(\"TAK\")\n",
    "        else:\n",
    "            print(\"NIE\")\n",
    "        \n",
    "        print(\"Długość oryginalnego tekstu: \" + str(len(text)))\n",
    "        print(\"Długość skompresowanego tekstu \" + str(ceil(len(compressed)/8)))\n",
    "        print(\"Teorytyczny współczynnik kompresji: \" + str(round(100*(len(text)-ceil(len(compressed)/8))/len(text),4)) + \"%\")\n",
    "        \n",
    "        print(\"Wielkość oryginalnego pliku (w bajtach): \" + str(os.path.getsize(filename[:5]+\".txt\")))\n",
    "        print(\"Wielkość skompresowanego pliku (w bajtach): \" + str(os.path.getsize(filename)))\n",
    "        print(\"Rzeczywisty współczynnik kompresji: \" + str(round(100*(os.path.getsize(filename[:5]+\".txt\")\n",
    "                                                -os.path.getsize(filename))/os.path.getsize(filename[:5]+\".txt\"),4)) + \"%\\n\")"
   ]
  },
  {
   "cell_type": "code",
   "execution_count": 103,
   "metadata": {},
   "outputs": [
    {
     "name": "stdout",
     "output_type": "stream",
     "text": [
      "Wielkość pliku w bajtach: 1006\n",
      "Czas szukania kodów symbolów = 0.007980823516845703 sekund\n",
      "Czas kompresji: 0.012995481491088867 sekund\n",
      "Czas dekompresji: 0.007010698318481445 sekund\n",
      "Czy skompresowany tekst oraz skompresowany tekst z pliku są sobie równe? TAK\n",
      "Czy tekst po zdekompresowaniu jest taki sam jak na początku? TAK\n",
      "Długość oryginalnego tekstu: 1006\n",
      "Długość skompresowanego tekstu 489\n",
      "Teorytyczny współczynnik kompresji: 51.3917%\n",
      "Wielkość oryginalnego pliku (w bajtach): 1006\n",
      "Wielkość skompresowanego pliku (w bajtach): 489\n",
      "Rzeczywisty współczynnik kompresji: 51.3917%\n",
      "\n",
      "Wielkość pliku w bajtach: 10071\n",
      "Czas szukania kodów symbolów = 0.2882812023162842 sekund\n",
      "Czas kompresji: 0.3600635528564453 sekund\n",
      "Czas dekompresji: 0.08585429191589355 sekund\n",
      "Czy skompresowany tekst oraz skompresowany tekst z pliku są sobie równe? TAK\n",
      "Czy tekst po zdekompresowaniu jest taki sam jak na początku? TAK\n",
      "Długość oryginalnego tekstu: 10071\n",
      "Długość skompresowanego tekstu 5809\n",
      "Teorytyczny współczynnik kompresji: 42.3195%\n",
      "Wielkość oryginalnego pliku (w bajtach): 10080\n",
      "Wielkość skompresowanego pliku (w bajtach): 5809\n",
      "Rzeczywisty współczynnik kompresji: 42.371%\n",
      "\n",
      "Wielkość pliku w bajtach: 98762\n",
      "Czas szukania kodów symbolów = 2.217998504638672 sekund\n",
      "Czas kompresji: 2.9239346981048584 sekund\n",
      "Czas dekompresji: 0.800041913986206 sekund\n",
      "Czy skompresowany tekst oraz skompresowany tekst z pliku są sobie równe? TAK\n",
      "Czy tekst po zdekompresowaniu jest taki sam jak na początku? TAK\n",
      "Długość oryginalnego tekstu: 98762\n",
      "Długość skompresowanego tekstu 54655\n",
      "Teorytyczny współczynnik kompresji: 44.6599%\n",
      "Wielkość oryginalnego pliku (w bajtach): 101539\n",
      "Wielkość skompresowanego pliku (w bajtach): 54655\n",
      "Rzeczywisty współczynnik kompresji: 46.1734%\n",
      "\n",
      "Wielkość pliku w bajtach: 1018808\n",
      "Czas szukania kodów symbolów = 28.550827026367188 sekund\n",
      "Czas kompresji: 36.60806345939636 sekund\n",
      "Czas dekompresji: 9.887583255767822 sekund\n",
      "Czy skompresowany tekst oraz skompresowany tekst z pliku są sobie równe? TAK\n",
      "Czy tekst po zdekompresowaniu jest taki sam jak na początku? TAK\n",
      "Długość oryginalnego tekstu: 1018808\n",
      "Długość skompresowanego tekstu 568781\n",
      "Teorytyczny współczynnik kompresji: 44.1719%\n",
      "Wielkość oryginalnego pliku (w bajtach): 1047960\n",
      "Wielkość skompresowanego pliku (w bajtach): 568781\n",
      "Rzeczywisty współczynnik kompresji: 45.7249%\n",
      "\n"
     ]
    }
   ],
   "source": [
    "test_data_2()"
   ]
  },
  {
   "cell_type": "markdown",
   "metadata": {},
   "source": [
    "# 4. Porównanie współczynników kompresji "
   ]
  },
  {
   "cell_type": "markdown",
   "metadata": {},
   "source": [
    "## Statyczny"
   ]
  },
  {
   "cell_type": "markdown",
   "metadata": {},
   "source": [
    "Test_1 -> 54.5726 %  \n",
    "Test_2 -> 43.1448 %  \n",
    "Test_3 -> 46.2630 %  \n",
    "Test_4 -> 45.7380 %"
   ]
  },
  {
   "cell_type": "markdown",
   "metadata": {},
   "source": [
    "## Dynamiczny"
   ]
  },
  {
   "cell_type": "markdown",
   "metadata": {},
   "source": [
    "Test_1 -> 51.3917 %  \n",
    "Test_2 -> 42.3710 %  \n",
    "Test_3 -> 46.1734 %  \n",
    "Test_4 -> 45.7249 %"
   ]
  },
  {
   "cell_type": "markdown",
   "metadata": {},
   "source": [
    "# 5. Wnioski (co jest nie tak z dynamicznym algorytmem) "
   ]
  },
  {
   "cell_type": "markdown",
   "metadata": {},
   "source": [
    "Dynamiczny algorytm zgodnie z moimi oczekiwaniami na plikach sensownej długości potrafił osiągnąć współczynnik kompresji zbliżony do algorytmu statycznego.  \n",
    "Jednak algorytm okazał się o wiele wolniejszy, dlaczego?  \n",
    "Pierwszym czynnikiem jest liniowe przeszukiwanie tablicy węzłów, które  \n",
    "stanowiło ok 15 % czasu trwania algorytmu (jest to spokojnie do naprawy zmieniając strukturę przechowywania węzłów). Skąd to 85%?  \n",
    "Drugi czynnik okazał się dla mnie niezrozumiały. Otóż około 80% czasu trwania\n",
    "algorytmu zajmuje procedura rekurencyjna znajdujaca kod symbolu. Procedura ta ma optymistyczny rząd złożoności O(logn) zaś pesymistyczny O(n). Pesymistycznie powinna więc być w okolicach czasu tych 15% jak przeszukiwanie tablicy a osiąga\n",
    "gigantyczne 80%. Nie jestem w stanie zrozumieć dlaczego tak się dzieje. Gdyby Pan Doktor wiedział co mogło spowodować ten problem, proszę o feedback.  \n",
    "  \n",
    "P.S wypisałem dodatkowo pełen czas trwania procedury rekurencyjnej żeby widzieć że osiąga 80%"
   ]
  }
 ],
 "metadata": {
  "kernelspec": {
   "display_name": "Python 3",
   "language": "python",
   "name": "python3"
  },
  "language_info": {
   "codemirror_mode": {
    "name": "ipython",
    "version": 3
   },
   "file_extension": ".py",
   "mimetype": "text/x-python",
   "name": "python",
   "nbconvert_exporter": "python",
   "pygments_lexer": "ipython3",
   "version": "3.7.6"
  }
 },
 "nbformat": 4,
 "nbformat_minor": 4
}
