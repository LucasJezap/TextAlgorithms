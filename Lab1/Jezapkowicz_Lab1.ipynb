{
 "cells": [
  {
   "cell_type": "markdown",
   "metadata": {},
   "source": [
    "# Łukasz Jezapkowicz\n",
    "# Lab1\n",
    "# Wyszukiwanie wzorca w tekście\n",
    "# Link do zadań: https://github.com/apohllo/tekstowe/blob/master/search.md\n",
    "# -------------------------------------------------"
   ]
  },
  {
   "cell_type": "markdown",
   "metadata": {},
   "source": [
    "## 1. Zaimplementuj algorytmy wyszukiwania wzorców:\n",
    "## I. naiwny\n",
    "## II. automat skończony\n",
    "## III. algorytm KMP"
   ]
  },
  {
   "cell_type": "markdown",
   "metadata": {},
   "source": [
    "# -------------------------------------------------\n",
    "## Algorytm naiwny"
   ]
  },
  {
   "cell_type": "code",
   "execution_count": 22,
   "metadata": {},
   "outputs": [],
   "source": [
    "from time import time\n",
    "\n",
    "def naiveAlgorithm(text, pattern):\n",
    "    S = set()\n",
    "    for i in range(len(text)-len(pattern)+1):\n",
    "        if pattern == text[i:i+len(pattern)]:\n",
    "            S.add(i)\n",
    "    return len(S)\n",
    "\n",
    "def naive(file,pattern):\n",
    "    with open(file, encoding=\"ISO-8859-1\") as f:\n",
    "        time1 = time()\n",
    "        line = f.readline()\n",
    "        length = 0\n",
    "        text = \"\"\n",
    "        while line:\n",
    "            text = text + line\n",
    "            line = f.readline()\n",
    "        length = naiveAlgorithm(text,pattern)\n",
    "        return length, time() - time1"
   ]
  },
  {
   "cell_type": "markdown",
   "metadata": {},
   "source": [
    "# Algorytm automatu skończonego"
   ]
  },
  {
   "cell_type": "code",
   "execution_count": 23,
   "metadata": {},
   "outputs": [],
   "source": [
    "def getNextState(pattern, M, state, x): \n",
    "    if state < M and x == ord(pattern[state]): \n",
    "        return state+1\n",
    "    i=0\n",
    "    for ns in range(state,0,-1): \n",
    "        if ord(pattern[ns-1]) == x: \n",
    "            while(i<ns-1): \n",
    "                if pattern[i] != pattern[state-ns+1+i]: \n",
    "                    break\n",
    "                i+=1\n",
    "            if i == ns-1: \n",
    "                return ns  \n",
    "    return 0\n",
    "  \n",
    "def findTF(pattern, M): \n",
    "    TF = [[0 for i in range(256)] for _ in range(M+1)] \n",
    "  \n",
    "    for state in range(M+1): \n",
    "        for x in range(256): \n",
    "            z = getNextState(pattern, M, state, x) \n",
    "            TF[state][x] = z \n",
    "  \n",
    "    return TF \n",
    "  \n",
    "def finiteAutomata(text,pattern): \n",
    "    M = len(pattern) \n",
    "    N = len(text) \n",
    "    time2 = time()\n",
    "    TF = findTF(pattern, M)     \n",
    "    time1 = time()\n",
    "    S = set()\n",
    "    state=0\n",
    "    for i in range(N): \n",
    "        state = TF[state][ord(text[i])] \n",
    "        if state == M: \n",
    "            S.add(i-M+1)\n",
    "    return len(S),time()-time1, time1-time2\n",
    "            \n",
    "            \n",
    "def automataMethod(file, pattern):\n",
    "    with open(file, encoding=\"ISO-8859-1\") as f:\n",
    "        line = f.readline()\n",
    "        text = \"\"\n",
    "        while line:\n",
    "            text = text + line\n",
    "            line = f.readline()\n",
    "        return finiteAutomata(text,pattern)"
   ]
  },
  {
   "cell_type": "markdown",
   "metadata": {},
   "source": [
    "# Algorytm KMP"
   ]
  },
  {
   "cell_type": "code",
   "execution_count": 34,
   "metadata": {},
   "outputs": [],
   "source": [
    "def KMPSearch(txt,pattern):\n",
    "    S = set()\n",
    "    K = []  \n",
    "    time2= time()\n",
    "    t = -1\n",
    "    K.append(t)\n",
    "    for k in range(1, len(pattern) + 1):\n",
    "        while(t >= 0 and pattern[t] != pattern[k - 1]):\n",
    "            t = K[t]\n",
    "        t = t + 1  \n",
    "        K.append(t)\n",
    "    time1 = time()\n",
    "    m = 0  \n",
    "    for i in range(0, len(txt)):\n",
    "        while (m >= 0 and pattern[m] != txt[i]):\n",
    "            m = K[m]\n",
    "        m = m + 1  \n",
    "        if m == len(pattern):\n",
    "            S.add(i-m+1)\n",
    "            m = K[m]\n",
    "    return len(S), time()-time1, time1-time2\n",
    "\n",
    "def KMP(file,pattern):\n",
    "    with open(file, encoding=\"ISO-8859-1\") as f:\n",
    "        line = f.readline()\n",
    "        text = \"\"\n",
    "        while line:\n",
    "            text = text + line\n",
    "            line = f.readline()\n",
    "        return KMPSearch(text,pattern)"
   ]
  },
  {
   "cell_type": "markdown",
   "metadata": {},
   "source": [
    "## 2. Zaimplementuj testy porównujące szybkość działania wyżej wymienionych algorytmów."
   ]
  },
  {
   "cell_type": "code",
   "execution_count": 25,
   "metadata": {},
   "outputs": [],
   "source": [
    "def timeComparison(file,pattern):\n",
    "    a = naive(file,pattern)\n",
    "    b = automataMethod(file,pattern)\n",
    "    c = KMP(file,pattern)\n",
    "    result1,time1 = a[0],a[1]\n",
    "    result2,time2 = b[0],b[1]\n",
    "    result3,time3 = c[0],c[1]\n",
    "    \n",
    "    print(\"time1 = \",time1)\n",
    "    print(\"time2 = \",time2)\n",
    "    print(\"time3 = \",time3)\n",
    "\n",
    "    if (result1 == result2 == result3):\n",
    "        print(\"The results are all the same and equals \" + str(result1))\n",
    "    else:\n",
    "        print(\"The results are not the same and they are:\\nResult 1 = \" + str(result1) + \"\\nResult 2 = \" +\n",
    "              str(result2) + \"\\nResult 3 = \" + str(result3))\n",
    "\n",
    "    print(\"The times are:\\nTime 1 (Naive): \" + str(time1) + \" seconds\")\n",
    "    print(\"Time 2 (Finite Automata): \" + str(time2) + \" seconds\")\n",
    "    print(\"Time 3 (KMP): \" + str(time3) + \" seconds\")\n",
    "\n",
    "    if time1 < time2:\n",
    "        print(\"Naive method is \" + str(time2/time1) + \" times faster than Finite Automata method\")\n",
    "    else:\n",
    "        print(\"Finite Automata method is \" + str(time1/time2) + \" times faster than Naive method\")\n",
    "\n",
    "    if time1 < time3:\n",
    "        print(\"Naive method is \" + str(time3/time1) + \" times faster than KMP method\")\n",
    "    else:\n",
    "        print(\"KMP method is \" + str(time1/time3) + \" times faster than Naive method\")\n",
    "\n",
    "    if time2 < time3:\n",
    "        print(\"Finite Automata method is \" + str(time3/time2) + \" times faster than KMP method\")\n",
    "    else:\n",
    "        print(\"KMP method is \" + str(time2/time3) + \" times faster than Finite Automata method\")"
   ]
  },
  {
   "cell_type": "markdown",
   "metadata": {},
   "source": [
    "## 3. Znajdź wszystkie wystąpienia wzorca \"art\" w załączonej ustawie, za pomocą każdego algorytmu."
   ]
  },
  {
   "cell_type": "code",
   "execution_count": 26,
   "metadata": {},
   "outputs": [
    {
     "name": "stdout",
     "output_type": "stream",
     "text": [
      "273\n",
      "273\n",
      "273\n"
     ]
    }
   ],
   "source": [
    "print(naive(\"Ustawka.txt\",\"art\")[0])\n",
    "print(automataMethod(\"Ustawka.txt\",\"art\")[0])\n",
    "print(KMP(\"Ustawka.txt\",\"art\")[0])"
   ]
  },
  {
   "cell_type": "markdown",
   "metadata": {},
   "source": [
    "## 4. Porównaj szybkość działania algorytmów dla problemu z p. 3."
   ]
  },
  {
   "cell_type": "code",
   "execution_count": 28,
   "metadata": {},
   "outputs": [
    {
     "name": "stdout",
     "output_type": "stream",
     "text": [
      "time1 =  0.05858635902404785\n",
      "time2 =  0.033148765563964844\n",
      "time3 =  0.06445193290710449\n",
      "The results are all the same and equals 273\n",
      "The times are:\n",
      "Time 1 (Naive): 0.05858635902404785 seconds\n",
      "Time 2 (Finite Automata): 0.033148765563964844 seconds\n",
      "Time 3 (KMP): 0.06445193290710449 seconds\n",
      "Finite Automata method is 1.7673767944992664 times faster than Naive method\n",
      "Naive method is 1.1001184231409398 times faster than KMP method\n",
      "Finite Automata method is 1.9443237722604219 times faster than KMP method\n"
     ]
    }
   ],
   "source": [
    "timeComparison(\"Ustawka.txt\",\"art\")"
   ]
  },
  {
   "cell_type": "markdown",
   "metadata": {},
   "source": [
    "## 5. Porównaj szybkość działania algorytmów poprzez wyszukanie słowa \"kruszwil\" we fragmencie polskiej Wikipedii\n"
   ]
  },
  {
   "cell_type": "markdown",
   "metadata": {},
   "source": [
    "Z powodu problemów z odczytem pliku z fragmentem polskiej wikipedii użyłem pliku zawierającego Biblię (załączonego w folderze)"
   ]
  },
  {
   "cell_type": "code",
   "execution_count": 38,
   "metadata": {},
   "outputs": [
    {
     "name": "stdout",
     "output_type": "stream",
     "text": [
      "time1 =  469.9443624019623\n",
      "time2 =  15.281135082244873\n",
      "time3 =  22.15807843208313\n",
      "The results are all the same and equals 13\n",
      "The times are:\n",
      "Time 1 (Naive): 469.9443624019623 seconds\n",
      "Time 2 (Finite Automata): 15.281135082244873 seconds\n",
      "Time 3 (KMP): 22.15807843208313 seconds\n",
      "Finite Automata method is 30.753236580441587 times faster than Naive method\n",
      "KMP method is 21.20871463842823 times faster than Naive method\n",
      "Finite Automata method is 1.4500283069828084 times faster than KMP method\n"
     ]
    }
   ],
   "source": [
    "timeComparison(\"wikipedia.txt\",\"kruszwil\")"
   ]
  },
  {
   "cell_type": "markdown",
   "metadata": {},
   "source": [
    "## 6. Zaproponuj tekst oraz wzorzec, dla którego zmierzony czas działania algorytmów 2 oraz 3 będzie co najmniej 2 krotnie krótszy niż dla algorytmu naiwnego."
   ]
  },
  {
   "cell_type": "markdown",
   "metadata": {},
   "source": [
    "Jako prosty wniosek z porównania złożoności obliczeniowej algorytmów można łatwo wywnioskować, że algorytm naiwny bardzo słabo będzie spisywał się dla dużych plików oraz stosunkowo długiego patternu. Użyłem więc pliku zawierającego Biblię 10 razy (Biblia dla opornych). Jak widać, czas działania algorytmów 2 oraz 3 okazał się ponad 10 razy krótszy."
   ]
  },
  {
   "cell_type": "code",
   "execution_count": 14,
   "metadata": {},
   "outputs": [
    {
     "name": "stdout",
     "output_type": "stream",
     "text": [
      "time1 =  102.02077865600586\n",
      "time2 =  5.528034925460815\n",
      "time3 =  9.688720703125\n",
      "The results are all the same and equals 0\n",
      "The times are:\n",
      "Time 1 (Naive): 102.02077865600586 seconds\n",
      "Time 2 (Finite Automata): 5.528034925460815 seconds\n",
      "Time 3 (KMP): 9.688720703125 seconds\n",
      "Finite Automata method is 18.455161740408403 times faster than Naive method\n",
      "KMP method is 10.529850305531058 times faster than Naive method\n",
      "Finite Automata method is 1.7526518616047548 times faster than KMP method\n"
     ]
    }
   ],
   "source": [
    "timeComparison(\"bible10x.txt\",\"JesusLovesPatternMatching\")"
   ]
  },
  {
   "cell_type": "markdown",
   "metadata": {},
   "source": [
    "## 7. Zaproponuj wzorzec, dla którego zmierzony czas obliczenia tablicy przejścia automatu skończonego będzie co najmniej dwukrotnie dłuższy, niż czas potrzebny na utworzenie funkcji przejścia w algorytmie KMP."
   ]
  },
  {
   "cell_type": "markdown",
   "metadata": {},
   "source": [
    "Nie jestem pewien czy w mojej implementacji wkradł się jakiś błąd czy wynika to z faktu, że dla algorytmu 2 tworzę tablicę dla 256 znaków, ale dla mojej implementacji czas tworzenia funkcji przejścia w algorytmie KMP jest zawsze O WIELE szybszy niż ten tworzenia tablicy przejścia automatu skończonego. Jako przykład porównałem czas tworzenia 1000 takich tablic dla wzorca o wdzięcznej nazwie \"Koronawirus Atakuje\". Czas tworzenia funkcji przejścia okazał się 600 razy szybszy. WOW!"
   ]
  },
  {
   "cell_type": "code",
   "execution_count": 13,
   "metadata": {},
   "outputs": [
    {
     "name": "stdout",
     "output_type": "stream",
     "text": [
      "8.899893999099731\n",
      "0.014669179916381836\n",
      "Algorytm tworzenia funkcji przejścia jest około  606.706990426967  razy szybszy od tworzenia tablicy przejścia automatu skończonego\n"
     ]
    }
   ],
   "source": [
    "file = \"ustawka.txt\"\n",
    "pattern = \"Koronawirus Atakuje\"\n",
    "a,b=0,0\n",
    "for i in range(1000):\n",
    "    a += automataMethod(file,pattern)[2]\n",
    "    b += KMP(file,pattern)[2]\n",
    "print(a)\n",
    "print(b)\n",
    "print(\"Algorytm tworzenia funkcji przejścia jest około \",a / b, \" razy szybszy od tworzenia tablicy przejścia automatu skończonego\")"
   ]
  }
 ],
 "metadata": {
  "kernelspec": {
   "display_name": "Python 3",
   "language": "python",
   "name": "python3"
  },
  "language_info": {
   "codemirror_mode": {
    "name": "ipython",
    "version": 3
   },
   "file_extension": ".py",
   "mimetype": "text/x-python",
   "name": "python",
   "nbconvert_exporter": "python",
   "pygments_lexer": "ipython3",
   "version": "3.7.4"
  }
 },
 "nbformat": 4,
 "nbformat_minor": 4
}
