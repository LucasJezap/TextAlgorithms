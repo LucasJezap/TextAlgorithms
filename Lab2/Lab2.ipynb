{
 "cells": [
  {
   "cell_type": "markdown",
   "metadata": {},
   "source": [
    "# Algorytmy tekstowe 2019/2020"
   ]
  },
  {
   "cell_type": "markdown",
   "metadata": {},
   "source": [
    "# Laboratorium 2"
   ]
  },
  {
   "cell_type": "markdown",
   "metadata": {},
   "source": [
    "# Autor - Łukasz Jezapkowicz"
   ]
  },
  {
   "cell_type": "markdown",
   "metadata": {},
   "source": [
    "# 1. Przyjmij następujący zbiór danych wejściowych:\n",
    "## - bbb$\n",
    "## - aabbabd\n",
    "## - ababcd\n",
    "## - abcbccd\n",
    "## - załączony plik ojczyzna.txt (powielona x10 Litwo, Ojczyzno moja!)\n",
    "\n",
    "Dla ciekawych:\n",
    "Litwo, Ojczyzno moja! ty jesteś jak zdrowie;\n",
    "Ile cię trzeba cenić, ten tylko się dowie,\n",
    "Kto cię stracił. Dziś piękność twą w całej ozdobie\n",
    "Widzę i opisuję, bo tęsknię po tobie.\n",
    "Panno święta, co Jasnej bronisz Częstochowy\n",
    "I w Ostrej świecisz Bramie! Ty, co gród zamkowy\n",
    "Nowogródzki ochraniasz z jego wiernym ludem!\n",
    "Jak mnie dziecko do zdrowia powróciłaś cudem\n",
    "(— Gdy od płaczącej matki, pod Twoją opiekę\n",
    "Ofiarowany martwą podniosłem powiekę;\n",
    "I zaraz mogłem pieszo, do Twych świątyń progu\n",
    "Iść za wrócone życie podziękować Bogu —)\n",
    "Tak nas powrócisz cudem na Ojczyzny łono!...\n",
    "Tymczasem, przenoś moją duszę utęsknioną\n",
    "Do tych pagórków leśnych, do tych łąk zielonych,\n",
    "Szeroko nad błękitnym Niemnem rozciągnionych;\n",
    "Do tych pól malowanych zbożem rozmaitem,\n",
    "Wyzłacanych pszenicą, posrebrzanych żytem;\n",
    "Gdzie bursztynowy świerzop, gryka jak śnieg biała,\n",
    "Gdzie panieńskim rumieńcem dzięcielina pała,\n",
    "A wszystko przepasane jakby wstęgą, miedzą\n",
    "Zieloną, na niej zrzadka ciche grusze siedzą."
   ]
  },
  {
   "cell_type": "code",
   "execution_count": 27,
   "metadata": {},
   "outputs": [],
   "source": [
    "data = []\n",
    "data.append(\"bbb$\")\n",
    "data.append(\"aabbabd\")\n",
    "data.append(\"ababcd\")\n",
    "data.append(\"abcbccd\")\n",
    "file = open('ojczyzna.txt',mode='r', encoding=\"utf-8\")\n",
    "data.append(file.read())\n",
    "file.close()\n",
    "data[4] = data[4]+'$' # marker"
   ]
  },
  {
   "cell_type": "markdown",
   "metadata": {},
   "source": [
    "# 2. Upewnij się, że każdy łańcuch na końcu posiada unikalny znak (marker), a jeśli go nie ma, to dodaj ten znak. "
   ]
  },
  {
   "cell_type": "markdown",
   "metadata": {},
   "source": [
    "Łatwo zauważyć, że wszystkie dane wejściowe oprócz pliku ojczyzna.txt posiada unikalny znak na końcu (marker). Dopisałem więc na jego końcu znak $. Dzięki temu każdy łańcuch posiada unikalny znak na końcu."
   ]
  },
  {
   "cell_type": "markdown",
   "metadata": {},
   "source": [
    "# 3. Zaimplementuj algorytm konstruujący strukturę trie, która przechowuje wszystkie sufiksy łańcucha danego na wejściu."
   ]
  },
  {
   "cell_type": "code",
   "execution_count": 28,
   "metadata": {},
   "outputs": [],
   "source": [
    "# Klasa reprezentująca węzeł w drzewie Trie\n",
    "class TrieNode:\n",
    "    def __init__(self):\n",
    "        self.leaf = False\n",
    "        self.char = None\n",
    "        self.parent = None\n",
    "        self.link = None\n",
    "        self.children = dict()"
   ]
  },
  {
   "cell_type": "code",
   "execution_count": 29,
   "metadata": {},
   "outputs": [],
   "source": [
    "# Klasa reprezentująca drzewo Trie\n",
    "class Trie:\n",
    "    def __init__(self):\n",
    "        self.root = TrieNode()\n",
    "        \n",
    "    # metoda znajdujaca poczatkowe drzewo (po dodaniu 1 sufiksu)\n",
    "    def compute_init_tree(self,suffix):\n",
    "        rt = self.root\n",
    "        i = 0\n",
    "        while i < len(suffix):\n",
    "            rt.children[ord(suffix[i])] = TrieNode()\n",
    "            rt.children[ord(suffix[i])].parent = rt # ojciec\n",
    "            rt = rt.children[ord(suffix[i])]\n",
    "            rt.char = suffix[i]\n",
    "            if i == 0:\n",
    "                rt.link = self.root # tworze link od syna roota do roota\n",
    "            i += 1\n",
    "        rt.leaf = True # oznaczam ostatni węzeł liściem\n",
    "        return rt # zwracam liść\n",
    "    \n",
    "    # metoda up-link-down\n",
    "    def up_link_down(self,leaf):\n",
    "        v = leaf\n",
    "        txt = \"\"\n",
    "        # UP\n",
    "        while v.parent and v.link is None:\n",
    "            txt = v.char + txt\n",
    "            v = v.parent\n",
    "        if v.link is None:\n",
    "            return None, None,txt\n",
    "        # LINK\n",
    "        head = v.link\n",
    "        # DOWN\n",
    "        i = 0\n",
    "        while ord(txt[i]) in head.children: # póki istnieja odpowiednie dzieci\n",
    "            v = v.children[ord(txt[i])]\n",
    "            head = head.children[ord(txt[i])]\n",
    "            v.link = head\n",
    "            i += 1\n",
    "        return v,head,txt[i:]\n",
    "        \n",
    "    # metoda dodajaca brakujaca sciezke\n",
    "    def graft(self,v,head,txt):\n",
    "        w = head\n",
    "        for i in range(len(txt)):\n",
    "            v = v.children[ord(txt[i])]\n",
    "            if ord(txt[i]) not in w.children:\n",
    "                w.children[ord(txt[i])] = TrieNode()\n",
    "                w.children[ord(txt[i])].parent = w\n",
    "                w.children[ord(txt[i])].char = txt[i]\n",
    "            w = w.children[ord(txt[i])]\n",
    "            v.link = w\n",
    "        w.leaf = True\n",
    "        return w\n",
    "    \n",
    "    # metoda budująca drzewo Trie dla danego tekstu\n",
    "    def build_trie(self,text):\n",
    "        leaf = self.compute_init_tree(text) # poczatkowe drzewo\n",
    "        for i in range(1,len(text)):\n",
    "            v,head,txt = self.up_link_down(leaf)\n",
    "            if head is None: # specjalny przypadek\n",
    "                v = self.root.children[ord(text[i-1])]\n",
    "                v.link = self.root\n",
    "                head = self.root\n",
    "                txt = txt[1:]\n",
    "            leaf = self.graft(v,head,txt)\n",
    "        \n",
    "    \n",
    "    # metoda odszukujaca czy podsłowo nalezy do drzewa\n",
    "    def search(self,word):\n",
    "        rt = self.root\n",
    "        i = 0\n",
    "        while i < len(word) and ord(word[i]) in rt.children:\n",
    "            rt = rt.children[ord(word[i])]\n",
    "            i += 1\n",
    "        if i == len(word):\n",
    "            return True\n",
    "        return False\n",
    "    \n",
    "    def get_all_suffixes(self,node,suffix):\n",
    "        if node.leaf:\n",
    "            print(suffix)\n",
    "            return\n",
    "        for key in node.children:\n",
    "            self.get_all_suffixes(node.children[key],suffix+node.children[key].char)"
   ]
  },
  {
   "cell_type": "code",
   "execution_count": 30,
   "metadata": {},
   "outputs": [],
   "source": [
    "from time import time\n",
    "# Klasa odpowiedzialna za mierzenie czasów budowania odpowiednich drzew\n",
    "class TimeMeasure:\n",
    "    def measure_trie(self,text):\n",
    "        time1 = time()\n",
    "        trie = Trie()\n",
    "        trie.build_trie(text)\n",
    "        time2 = time()\n",
    "        if len(text) < 20:\n",
    "            print(\"Building trie from text \" + text + \" took \" + str(1000*(time2-time1)) + \" milliseconds\")\n",
    "        else:\n",
    "            print(\"Building trie from text from file 'ojczyzna.txt' took \" + str(time2-time1) + \" seconds\")"
   ]
  },
  {
   "cell_type": "code",
   "execution_count": 31,
   "metadata": {
    "scrolled": true
   },
   "outputs": [
    {
     "name": "stdout",
     "output_type": "stream",
     "text": [
      "Building trie from text bbb$ took 0.0 milliseconds\n",
      "Building trie from text aabbabd took 0.0 milliseconds\n",
      "Building trie from text ababcd took 0.0 milliseconds\n",
      "Building trie from text abcbccd took 0.0 milliseconds\n",
      "Building trie from text from file 'ojczyzna.txt' took 42.137665033340454 seconds\n"
     ]
    }
   ],
   "source": [
    "tm = TimeMeasure()\n",
    "for text in data:\n",
    "    tm.measure_trie(text)"
   ]
  },
  {
   "cell_type": "markdown",
   "metadata": {},
   "source": [
    "## Pokaz działania - wypisanie wszystkich sufiksów \"aabbabd\""
   ]
  },
  {
   "cell_type": "code",
   "execution_count": 32,
   "metadata": {},
   "outputs": [
    {
     "name": "stdout",
     "output_type": "stream",
     "text": [
      "aabbabd\n",
      "abbabd\n",
      "abd\n",
      "bbabd\n",
      "babd\n",
      "bd\n",
      "d\n"
     ]
    }
   ],
   "source": [
    "x = Trie()\n",
    "x.build_trie(data[1])\n",
    "x.get_all_suffixes(x.root,\"\")"
   ]
  },
  {
   "cell_type": "markdown",
   "metadata": {},
   "source": [
    "# 4. Zaimplementuj algorytm konstruujący drzewo sufiksów w oparciu o algorytm McCreighta."
   ]
  },
  {
   "cell_type": "markdown",
   "metadata": {},
   "source": [
    "## a) bez linków i fast_find"
   ]
  },
  {
   "cell_type": "code",
   "execution_count": 33,
   "metadata": {},
   "outputs": [],
   "source": [
    "# Klasa reprezentująca węzeł w drzewie sufiksów\n",
    "class SuffixEasyNode:\n",
    "    def __init__(self):\n",
    "        self.leaf = False\n",
    "        self.l_index = None\n",
    "        self.r_index = None\n",
    "        self.parent = None\n",
    "        self.link = None\n",
    "        self.children = dict()"
   ]
  },
  {
   "cell_type": "code",
   "execution_count": 34,
   "metadata": {},
   "outputs": [],
   "source": [
    "# Klasa reprezentująca drzewo Trie\n",
    "class SuffixEasyTree:\n",
    "    def __init__(self):\n",
    "        self.root = SuffixEasyNode()\n",
    "        self.text = None\n",
    "        \n",
    "    # metoda znajdujaca poczatkowe drzewo (po dodaniu 1 sufiksu)\n",
    "    def compute_init_tree(self,suffix):\n",
    "        self.text = suffix  # zapisuje caly tekst \n",
    "        rt = self.root\n",
    "        rt.children[ord(suffix[0])] = SuffixEasyNode()\n",
    "        rt.children[ord(suffix[0])].parent = rt\n",
    "        rt = rt.children[ord(suffix[0])]\n",
    "        rt.l_index = 0\n",
    "        rt.r_index = len(suffix)-1\n",
    "        rt.leaf = True # oznaczam ostatni węzeł liściem\n",
    "        return rt # zwracam liść\n",
    "    \n",
    "    # metoda break\n",
    "    def breakNode(self,node1,node2,index):\n",
    "        new_node = SuffixEasyNode()\n",
    "        i = node2.l_index\n",
    "        j = node2.r_index\n",
    "        new_node.parent = node1\n",
    "        new_node.l_index = i\n",
    "        new_node.r_index = i+index-1\n",
    "        new_node.children[ord(self.text[i+index])] = node2\n",
    "        node1.children[ord(self.text[i])] = new_node\n",
    "        node2.l_index += index\n",
    "        return new_node\n",
    "        \n",
    "    \n",
    "    # metoda slow find\n",
    "    def slow_find(self,node,txt):\n",
    "        i = 0\n",
    "        result = None\n",
    "        while i < len(txt) and ord(txt[i]) in node.children:\n",
    "            child = node.children[ord(txt[i])]\n",
    "            for j in range(child.l_index,child.r_index+1):\n",
    "                if not txt[i] == self.text[j]:\n",
    "                    result = self.breakNode(node,child,j-child.l_index)\n",
    "                    break\n",
    "                i += 1\n",
    "            if result is not None:\n",
    "                break\n",
    "            node = child\n",
    "        if result is None:\n",
    "            result = node\n",
    "        return result,i\n",
    "            \n",
    "    def easy_insert(self,shift,head):\n",
    "        child = SuffixEasyNode()\n",
    "        child.parent = head\n",
    "        child.l_index = shift\n",
    "        child.r_index = len(self.text)-1\n",
    "        child.leaf = True\n",
    "        return child\n",
    "    \n",
    "    # metoda budująca drzewo Trie dla danego tekstu bez linkow i fast_find (od roota)\n",
    "    def build_tree_easy(self,text):\n",
    "        leaf = self.compute_init_tree(text) # poczatkowe drzewo\n",
    "        for i in range(1,len(text)):\n",
    "            suff = text[i:]\n",
    "            head,shift = self.slow_find(self.root,suff)\n",
    "            txt = suff[shift:]\n",
    "            head.children[ord(txt[0])] = self.easy_insert(i+shift,head)\n",
    "\n",
    "    def get_all_suffixes(self,node,suffix):\n",
    "        if node.leaf:\n",
    "            print(suffix)\n",
    "        for key in node.children:\n",
    "            child = node.children[key]\n",
    "            self.get_all_suffixes(child,suffix+self.text[child.l_index:child.r_index+1])"
   ]
  },
  {
   "cell_type": "code",
   "execution_count": 35,
   "metadata": {},
   "outputs": [],
   "source": [
    "# Klasa odpowiedzialna za mierzenie czasów budowania odpowiednich drzew\n",
    "class TimeMeasure:\n",
    "    def measure_trie(self,text):\n",
    "        time1 = time()\n",
    "        tree = SuffixEasyTree()\n",
    "        tree.build_tree_easy(text)\n",
    "        time2 = time()\n",
    "        if len(text) < 20:\n",
    "            print(\"Building easy suffix tree from text \" + text + \" took \" + str(1000*(time2-time1)) + \" milliseconds\")\n",
    "        else:\n",
    "            print(\"Building easy suffix tree from text from file 'ojczyzna.txt' took \" + str(time2-time1) + \" seconds\")"
   ]
  },
  {
   "cell_type": "code",
   "execution_count": 36,
   "metadata": {},
   "outputs": [
    {
     "name": "stdout",
     "output_type": "stream",
     "text": [
      "Building easy suffix tree from text bbb$ took 0.0 milliseconds\n",
      "Building easy suffix tree from text aabbabd took 0.0 milliseconds\n",
      "Building easy suffix tree from text ababcd took 0.0 milliseconds\n",
      "Building easy suffix tree from text abcbccd took 0.0 milliseconds\n",
      "Building easy suffix tree from text from file 'ojczyzna.txt' took 5.396024942398071 seconds\n"
     ]
    }
   ],
   "source": [
    "tm = TimeMeasure()\n",
    "for text in data:\n",
    "    tm.measure_trie(text)"
   ]
  },
  {
   "cell_type": "markdown",
   "metadata": {},
   "source": [
    "## Pokaz działania - wypisanie wszystkich sufiksów \"aabbabd\""
   ]
  },
  {
   "cell_type": "code",
   "execution_count": 37,
   "metadata": {},
   "outputs": [
    {
     "name": "stdout",
     "output_type": "stream",
     "text": [
      "aabbabd\n",
      "abbabd\n",
      "abd\n",
      "bbabd\n",
      "babd\n",
      "bd\n",
      "d\n"
     ]
    }
   ],
   "source": [
    "x = SuffixEasyTree()\n",
    "x.build_tree_easy(data[1])\n",
    "x.get_all_suffixes(x.root,\"\")"
   ]
  },
  {
   "cell_type": "markdown",
   "metadata": {},
   "source": [
    "## b) z linkami i fast_find "
   ]
  },
  {
   "cell_type": "code",
   "execution_count": 38,
   "metadata": {},
   "outputs": [],
   "source": [
    "# Klasa reprezentująca węzeł w drzewie sufiksów\n",
    "class SuffixNode:\n",
    "    def __init__(self):\n",
    "        self.leaf = False\n",
    "        self.l_index = None\n",
    "        self.r_index = None\n",
    "        self.parent = None\n",
    "        self.link = None\n",
    "        self.children = dict()\n",
    "    \n",
    "    def __str__(self):\n",
    "        return \"l_index = \" + str(self.l_index) + \" r_index = \" + str(self.r_index) + \" children = \" + str(self.children)"
   ]
  },
  {
   "cell_type": "code",
   "execution_count": 39,
   "metadata": {},
   "outputs": [],
   "source": [
    "# Klasa reprezentująca drzewo Trie\n",
    "class SuffixTree:\n",
    "    def __init__(self):\n",
    "        self.root = SuffixNode()\n",
    "        self.text = None\n",
    "        \n",
    "    # metoda znajdujaca poczatkowe drzewo (po dodaniu 1 sufiksu)\n",
    "    def compute_init_tree(self,suffix):\n",
    "        self.text = suffix  # zapisuje cały tekst \n",
    "        rt = self.root\n",
    "        rt.children[ord(suffix[0])] = SuffixNode()\n",
    "        rt.children[ord(suffix[0])].parent = rt.children[ord(suffix[0])].link = rt \n",
    "        rt.link = rt.parent = rt # link roota na samego siebie\n",
    "        rt = rt.children[ord(suffix[0])]\n",
    "        rt.l_index = 0\n",
    "        rt.r_index = len(suffix)-1\n",
    "        rt.leaf = True # oznaczam ostatni węzeł liściem\n",
    "        return rt # zwracam liść\n",
    "    \n",
    "    # metoda break\n",
    "    def breakNode(self,node1,node2,txt):\n",
    "        i = 0\n",
    "        j = node2.l_index\n",
    "        while i < len(txt) and txt[i] == self.text[j]:\n",
    "            i += 1\n",
    "            j += 1\n",
    "        new_node = SuffixNode()\n",
    "        new_node.parent = node1\n",
    "        new_node.l_index = node2.l_index\n",
    "        new_node.r_index = node2.l_index+i-1\n",
    "        new_node.link = node1\n",
    "        new_node.children[ord(self.text[j])] = node2\n",
    "        node1.children[ord(txt[0])] = new_node\n",
    "        node2.l_index += i\n",
    "        node2.parent = new_node\n",
    "        return new_node, len(txt)-i\n",
    "    \n",
    "    # metoda fast_find\n",
    "    def fast_find(self,node,txt):\n",
    "        while len(txt) > 0 and ord(txt[0]) in node.children:\n",
    "            child = node.children[ord(txt[0])]\n",
    "            length = child.r_index-child.l_index+1\n",
    "            if len(txt) < length:\n",
    "                return self.breakNode(node,child,txt)\n",
    "            txt = txt[length:]\n",
    "            node = child\n",
    "        return node,len(txt)\n",
    "    \n",
    "    # metoda slow find\n",
    "    def slow_find(self,node,txt):\n",
    "        while len(txt) > 0:\n",
    "            child = node.children[ord(txt[0])]\n",
    "            i = 0\n",
    "            j = child.r_index\n",
    "            length = child.r_index-child.l_index+1\n",
    "            if len(txt) >= length:\n",
    "                while i < length:\n",
    "                    if txt[i] != self.text[j]:\n",
    "                        return self.breakNode(node,child,txt)\n",
    "                    i += 1\n",
    "                    j += 1\n",
    "            else:\n",
    "                return self.breakNode(node,child,txt)\n",
    "            txt = txt[length:]\n",
    "            node = child\n",
    "            if len(txt)>0 and ord(txt[0]) not in node.children:\n",
    "                break\n",
    "        return node,len(txt)\n",
    "    \n",
    "    # metoda up-link-down (zwraca (head,index_poczatku_koncowki))\n",
    "    def up_link_down(self,leaf,suff):\n",
    "        head = leaf.parent\n",
    "        parent = head.parent\n",
    "        father_head = \"\"\n",
    "        if head != parent: # head == parent -> root\n",
    "            father_head = self.text[head.l_index:head.r_index+1]\n",
    "        head_leaf = self.text[leaf.l_index:leaf.r_index+1]\n",
    "        u = parent.link\n",
    "        v, tail_len = self.fast_find(u,father_head)\n",
    "        if head == parent or v.parent == u: # specjalny przypadek\n",
    "            if ord(suff[0]) in u.children:\n",
    "                new_head, tail_len = self.slow_find(u,suff)\n",
    "            else:\n",
    "                new_head, tail_len = u,len(suff)\n",
    "        else:\n",
    "            new_head, tail_len = v,len(head_leaf)\n",
    "        if head != v:\n",
    "            head.link = v\n",
    "        return new_head,tail_len\n",
    "        \n",
    "    # metoda graft\n",
    "    def graft(self,head,tail_len):\n",
    "        child = SuffixNode()\n",
    "        child.leaf = True\n",
    "        child.l_index = len(self.text)-tail_len\n",
    "        child.r_index = len(self.text)-1\n",
    "        child.parent = head\n",
    "        head.children[ord(self.text[child.l_index])] = child\n",
    "        return child\n",
    "            \n",
    "    # metoda budująca drzewo Trie dla danego tekstu bez linkow i fast_find (od roota)\n",
    "    def build_tree(self,text):\n",
    "        leaf = self.compute_init_tree(text) # poczatkowe drzewo\n",
    "        for i in range(1,len(text)):\n",
    "            suff = text[i:]\n",
    "            head,tail_len = self.up_link_down(leaf,suff)\n",
    "            leaf = self.graft(head,tail_len)\n",
    "\n",
    "    def get_all_suffixes(self,node,suffix):\n",
    "        if node.leaf:\n",
    "            print(suffix)\n",
    "        for key in node.children:\n",
    "            child = node.children[key]\n",
    "            self.get_all_suffixes(child,suffix+self.text[child.l_index:child.r_index+1])"
   ]
  },
  {
   "cell_type": "code",
   "execution_count": 40,
   "metadata": {},
   "outputs": [],
   "source": [
    "# Klasa odpowiedzialna za mierzenie czasów budowania odpowiednich drzew\n",
    "class TimeMeasure:\n",
    "    def measure_trie(self,text):\n",
    "        time1 = time()\n",
    "        tree = SuffixTree()\n",
    "        tree.build_tree(text)\n",
    "        time2 = time()\n",
    "        if len(text) < 20:\n",
    "            print(\"Building suffix tree from text \" + text + \" took \" + str(1000*(time2-time1)) + \" milliseconds\")\n",
    "        else:\n",
    "            print(\"Building suffix tree from text from file 'ojczyzna.txt' took \" + str(time2-time1) + \" seconds\")"
   ]
  },
  {
   "cell_type": "code",
   "execution_count": 41,
   "metadata": {},
   "outputs": [
    {
     "name": "stdout",
     "output_type": "stream",
     "text": [
      "Building suffix tree from text bbb$ took 0.0 milliseconds\n",
      "Building suffix tree from text aabbabd took 0.0 milliseconds\n",
      "Building suffix tree from text ababcd took 0.0 milliseconds\n",
      "Building suffix tree from text abcbccd took 0.0 milliseconds\n",
      "Building suffix tree from text from file 'ojczyzna.txt' took 7.919973611831665 seconds\n"
     ]
    }
   ],
   "source": [
    "tm = TimeMeasure()\n",
    "for text in data:\n",
    "    tm.measure_trie(text)"
   ]
  },
  {
   "cell_type": "markdown",
   "metadata": {},
   "source": [
    "## Pokaz działania - wypisanie wszystkich sufiksów \"aabbabd\""
   ]
  },
  {
   "cell_type": "code",
   "execution_count": 44,
   "metadata": {},
   "outputs": [
    {
     "name": "stdout",
     "output_type": "stream",
     "text": [
      "aabbabd\n",
      "abbabd\n",
      "abd\n",
      "bbabd\n",
      "babd\n",
      "bd\n",
      "d\n"
     ]
    }
   ],
   "source": [
    "x = SuffixTree()\n",
    "x.build_tree(data[1])\n",
    "x.get_all_suffixes(x.root,\"\")"
   ]
  },
  {
   "cell_type": "markdown",
   "metadata": {},
   "source": [
    "# 5. Upewnij się, że powstałe struktury danych są poprawne. Możesz np. sprawdzić, czy struktura zawiera jakiś ciąg znaków i porównać wyniki z algorytmem wyszukiwania wzorców."
   ]
  },
  {
   "cell_type": "markdown",
   "metadata": {},
   "source": [
    "# Więcej przykładów"
   ]
  },
  {
   "cell_type": "code",
   "execution_count": 51,
   "metadata": {},
   "outputs": [
    {
     "name": "stdout",
     "output_type": "stream",
     "text": [
      "bbb$\n",
      "bb$\n",
      "b$\n",
      "$\n",
      "-------------------------\n",
      "bbb$\n",
      "bb$\n",
      "b$\n",
      "$\n",
      "-------------------------\n",
      "bbb$\n",
      "bb$\n",
      "b$\n",
      "$\n"
     ]
    }
   ],
   "source": [
    "x = Trie()\n",
    "x.build_trie(data[0])\n",
    "x.get_all_suffixes(x.root,\"\")\n",
    "print(\"-------------------------\")\n",
    "x = SuffixEasyTree()\n",
    "x.build_tree_easy(data[0])\n",
    "x.get_all_suffixes(x.root,\"\")\n",
    "print(\"-------------------------\")\n",
    "x = SuffixTree()\n",
    "x.build_tree(data[0])\n",
    "x.get_all_suffixes(x.root,\"\")"
   ]
  },
  {
   "cell_type": "code",
   "execution_count": 52,
   "metadata": {},
   "outputs": [
    {
     "name": "stdout",
     "output_type": "stream",
     "text": [
      "ababcd\n",
      "abcd\n",
      "babcd\n",
      "bcd\n",
      "cd\n",
      "d\n",
      "-------------------------\n",
      "ababcd\n",
      "abcd\n",
      "babcd\n",
      "bcd\n",
      "cd\n",
      "d\n",
      "-------------------------\n",
      "ababcd\n",
      "abcd\n",
      "babcd\n",
      "bcd\n",
      "cd\n",
      "d\n"
     ]
    }
   ],
   "source": [
    "x = Trie()\n",
    "x.build_trie(data[2])\n",
    "x.get_all_suffixes(x.root,\"\")\n",
    "print(\"-------------------------\")\n",
    "x = SuffixEasyTree()\n",
    "x.build_tree_easy(data[2])\n",
    "x.get_all_suffixes(x.root,\"\")\n",
    "print(\"-------------------------\")\n",
    "x = SuffixTree()\n",
    "x.build_tree(data[2])\n",
    "x.get_all_suffixes(x.root,\"\")"
   ]
  },
  {
   "cell_type": "code",
   "execution_count": 53,
   "metadata": {},
   "outputs": [
    {
     "name": "stdout",
     "output_type": "stream",
     "text": [
      "abcbccd\n",
      "bcbccd\n",
      "bccd\n",
      "cbccd\n",
      "ccd\n",
      "cd\n",
      "d\n",
      "-------------------------\n",
      "abcbccd\n",
      "bcbccd\n",
      "bccd\n",
      "cbccd\n",
      "ccd\n",
      "cd\n",
      "d\n",
      "-------------------------\n",
      "abcbccd\n",
      "bcbccd\n",
      "bccd\n",
      "cbccd\n",
      "ccd\n",
      "cd\n",
      "d\n"
     ]
    }
   ],
   "source": [
    "x = Trie()\n",
    "x.build_trie(data[3])\n",
    "x.get_all_suffixes(x.root,\"\")\n",
    "print(\"-------------------------\")\n",
    "x = SuffixEasyTree()\n",
    "x.build_tree_easy(data[3])\n",
    "x.get_all_suffixes(x.root,\"\")\n",
    "print(\"-------------------------\")\n",
    "x = SuffixTree()\n",
    "x.build_tree(data[3])\n",
    "x.get_all_suffixes(x.root,\"\")"
   ]
  },
  {
   "cell_type": "code",
   "execution_count": 56,
   "metadata": {},
   "outputs": [
    {
     "name": "stdout",
     "output_type": "stream",
     "text": [
      "Algorytmy Tekstowe są git.\n",
      "lgorytmy Tekstowe są git.\n",
      "gorytmy Tekstowe są git.\n",
      "git.\n",
      "orytmy Tekstowe są git.\n",
      "owe są git.\n",
      "rytmy Tekstowe są git.\n",
      "ytmy Tekstowe są git.\n",
      "y Tekstowe są git.\n",
      "tmy Tekstowe są git.\n",
      "towe są git.\n",
      "t.\n",
      "my Tekstowe są git.\n",
      " Tekstowe są git.\n",
      " są git.\n",
      " git.\n",
      "Tekstowe są git.\n",
      "ekstowe są git.\n",
      "e są git.\n",
      "kstowe są git.\n",
      "stowe są git.\n",
      "są git.\n",
      "we są git.\n",
      "ą git.\n",
      "it.\n",
      ".\n",
      "-------------------------\n",
      "Algorytmy Tekstowe są git.\n",
      "lgorytmy Tekstowe są git.\n",
      "gorytmy Tekstowe są git.\n",
      "git.\n",
      "orytmy Tekstowe są git.\n",
      "owe są git.\n",
      "rytmy Tekstowe są git.\n",
      "ytmy Tekstowe są git.\n",
      "y Tekstowe są git.\n",
      "tmy Tekstowe są git.\n",
      "towe są git.\n",
      "t.\n",
      "my Tekstowe są git.\n",
      " Tekstowe są git.\n",
      " są git.\n",
      " git.\n",
      "Tekstowe są git.\n",
      "ekstowe są git.\n",
      "e są git.\n",
      "kstowe są git.\n",
      "stowe są git.\n",
      "są git.\n",
      "we są git.\n",
      "ą git.\n",
      "it.\n",
      ".\n",
      "-------------------------\n",
      "Algorytmy Tekstowe są git.\n",
      "lgorytmy Tekstowe są git.\n",
      "gorytmy Tekstowe są git.\n",
      "git.\n",
      "orytmy Tekstowe są git.\n",
      "owe są git.\n",
      "rytmy Tekstowe są git.\n",
      "ytmy Tekstowe są git.\n",
      "y Tekstowe są git.\n",
      "tmy Tekstowe są git.\n",
      "towe są git.\n",
      "t.\n",
      "my Tekstowe są git.\n",
      " Tekstowe są git.\n",
      " są git.\n",
      " git.\n",
      "Tekstowe są git.\n",
      "ekstowe są git.\n",
      "e są git.\n",
      "kstowe są git.\n",
      "stowe są git.\n",
      "są git.\n",
      "we są git.\n",
      "ą git.\n",
      "it.\n",
      ".\n"
     ]
    }
   ],
   "source": [
    "x = Trie()\n",
    "x.build_trie(\"Algorytmy Tekstowe są git.\")\n",
    "x.get_all_suffixes(x.root,\"\")\n",
    "print(\"-------------------------\")\n",
    "x = SuffixEasyTree()\n",
    "x.build_tree_easy(\"Algorytmy Tekstowe są git.\")\n",
    "x.get_all_suffixes(x.root,\"\")\n",
    "print(\"-------------------------\")\n",
    "x = SuffixTree()\n",
    "x.build_tree(\"Algorytmy Tekstowe są git.\")\n",
    "x.get_all_suffixes(x.root,\"\")"
   ]
  },
  {
   "cell_type": "markdown",
   "metadata": {},
   "source": [
    "# 6. Porównaj szybkość działania algorytmów konstruujących struktury danych dla danych z p. 1:"
   ]
  },
  {
   "cell_type": "markdown",
   "metadata": {},
   "source": [
    "Building trie from text bbb$ took 0.0 milliseconds  \n",
    "Building trie from text aabbabd took 0.0 milliseconds  \n",
    "Building trie from text ababcd took 0.0 milliseconds  \n",
    "Building trie from text abcbccd took 0.0 milliseconds  \n",
    "Building trie from text from file 'ojczyzna.txt' took 42.137665033340454 seconds  \n",
    "\n",
    "Building easy suffix tree from text bbb$ took 0.0 milliseconds  \n",
    "Building easy suffix tree from text aabbabd took 0.0 milliseconds  \n",
    "Building easy suffix tree from text ababcd took 0.0 milliseconds  \n",
    "Building easy suffix tree from text abcbccd took 0.0 milliseconds  \n",
    "Building easy suffix tree from text from file 'ojczyzna.txt' took 5.396024942398071 seconds  \n",
    "\n",
    "Building suffix tree from text bbb$ took 0.0 milliseconds  \n",
    "Building suffix tree from text aabbabd took 0.0 milliseconds  \n",
    "Building suffix tree from text ababcd took 0.0 milliseconds  \n",
    "Building suffix tree from text abcbccd took 0.0 milliseconds  \n",
    "Building suffix tree from text from file 'ojczyzna.txt' took 7.919973611831665 seconds  "
   ]
  },
  {
   "cell_type": "markdown",
   "metadata": {},
   "source": [
    "#### Jak widać, moja implementacja drzewa sufiksów w wariancie z linkowaniem i fast_findem okazała się nie do końca prawidłowa. Czas tworzenia drzewa okazał się dłuższy niż dla wariantu bez linkowania i fast_finda. O pomyłkę nie było trudno, albowiem algorytm nie jest szczególnie łatwy. Podejrzewam błąd w sposobie działania budowania drzewa dla początkowych sufiksów (nigdzie w książce nie było dobrze opisane jak algorytm zacząć, algorytm był opisany dla przypadków, gdzie faktycznie parent ma już link do innej gałęzi w drzewie). Prawdą jest jednak, że nawet drzewo sufiksów oparte o prostszą implementacje jest znacząco szybsze od drzewa Trie i może być wystarczająco szybkie dla tekstów średniej długości. Implementację próbowałem naprawić (tj. zobaczyć, że czas wykonania będzie krótszy niż dla prostszej) pół soboty i niestety okazałem się bezsilny wobec owego problemu. "
   ]
  },
  {
   "cell_type": "code",
   "execution_count": null,
   "metadata": {},
   "outputs": [],
   "source": []
  }
 ],
 "metadata": {
  "kernelspec": {
   "display_name": "Python 3",
   "language": "python",
   "name": "python3"
  },
  "language_info": {
   "codemirror_mode": {
    "name": "ipython",
    "version": 3
   },
   "file_extension": ".py",
   "mimetype": "text/x-python",
   "name": "python",
   "nbconvert_exporter": "python",
   "pygments_lexer": "ipython3",
   "version": "3.7.6"
  }
 },
 "nbformat": 4,
 "nbformat_minor": 2
}
